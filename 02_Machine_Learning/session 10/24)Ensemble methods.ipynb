{
 "cells": [
  {
   "cell_type": "code",
   "execution_count": 1,
   "id": "e9004c1b",
   "metadata": {},
   "outputs": [
    {
     "data": {
      "text/html": [
       "<div>\n",
       "<style scoped>\n",
       "    .dataframe tbody tr th:only-of-type {\n",
       "        vertical-align: middle;\n",
       "    }\n",
       "\n",
       "    .dataframe tbody tr th {\n",
       "        vertical-align: top;\n",
       "    }\n",
       "\n",
       "    .dataframe thead th {\n",
       "        text-align: right;\n",
       "    }\n",
       "</style>\n",
       "<table border=\"1\" class=\"dataframe\">\n",
       "  <thead>\n",
       "    <tr style=\"text-align: right;\">\n",
       "      <th></th>\n",
       "      <th>sepal length (cm)</th>\n",
       "      <th>sepal width (cm)</th>\n",
       "      <th>petal length (cm)</th>\n",
       "      <th>petal width (cm)</th>\n",
       "    </tr>\n",
       "  </thead>\n",
       "  <tbody>\n",
       "    <tr>\n",
       "      <th>0</th>\n",
       "      <td>5.1</td>\n",
       "      <td>3.5</td>\n",
       "      <td>1.4</td>\n",
       "      <td>0.2</td>\n",
       "    </tr>\n",
       "    <tr>\n",
       "      <th>1</th>\n",
       "      <td>4.9</td>\n",
       "      <td>3.0</td>\n",
       "      <td>1.4</td>\n",
       "      <td>0.2</td>\n",
       "    </tr>\n",
       "    <tr>\n",
       "      <th>2</th>\n",
       "      <td>4.7</td>\n",
       "      <td>3.2</td>\n",
       "      <td>1.3</td>\n",
       "      <td>0.2</td>\n",
       "    </tr>\n",
       "    <tr>\n",
       "      <th>3</th>\n",
       "      <td>4.6</td>\n",
       "      <td>3.1</td>\n",
       "      <td>1.5</td>\n",
       "      <td>0.2</td>\n",
       "    </tr>\n",
       "    <tr>\n",
       "      <th>4</th>\n",
       "      <td>5.0</td>\n",
       "      <td>3.6</td>\n",
       "      <td>1.4</td>\n",
       "      <td>0.2</td>\n",
       "    </tr>\n",
       "  </tbody>\n",
       "</table>\n",
       "</div>"
      ],
      "text/plain": [
       "   sepal length (cm)  sepal width (cm)  petal length (cm)  petal width (cm)\n",
       "0                5.1               3.5                1.4               0.2\n",
       "1                4.9               3.0                1.4               0.2\n",
       "2                4.7               3.2                1.3               0.2\n",
       "3                4.6               3.1                1.5               0.2\n",
       "4                5.0               3.6                1.4               0.2"
      ]
     },
     "execution_count": 1,
     "metadata": {},
     "output_type": "execute_result"
    }
   ],
   "source": [
    "import pandas as pd\n",
    "from sklearn.datasets import load_iris\n",
    "iris = load_iris()\n",
    "table = pd.DataFrame(iris.data,columns=iris.feature_names)\n",
    "table.head()"
   ]
  },
  {
   "cell_type": "code",
   "execution_count": 2,
   "id": "12a4cea1",
   "metadata": {},
   "outputs": [
    {
     "data": {
      "text/html": [
       "<div>\n",
       "<style scoped>\n",
       "    .dataframe tbody tr th:only-of-type {\n",
       "        vertical-align: middle;\n",
       "    }\n",
       "\n",
       "    .dataframe tbody tr th {\n",
       "        vertical-align: top;\n",
       "    }\n",
       "\n",
       "    .dataframe thead th {\n",
       "        text-align: right;\n",
       "    }\n",
       "</style>\n",
       "<table border=\"1\" class=\"dataframe\">\n",
       "  <thead>\n",
       "    <tr style=\"text-align: right;\">\n",
       "      <th></th>\n",
       "      <th>sepal length (cm)</th>\n",
       "      <th>sepal width (cm)</th>\n",
       "      <th>petal length (cm)</th>\n",
       "      <th>petal width (cm)</th>\n",
       "      <th>target</th>\n",
       "    </tr>\n",
       "  </thead>\n",
       "  <tbody>\n",
       "    <tr>\n",
       "      <th>0</th>\n",
       "      <td>5.1</td>\n",
       "      <td>3.5</td>\n",
       "      <td>1.4</td>\n",
       "      <td>0.2</td>\n",
       "      <td>0</td>\n",
       "    </tr>\n",
       "    <tr>\n",
       "      <th>1</th>\n",
       "      <td>4.9</td>\n",
       "      <td>3.0</td>\n",
       "      <td>1.4</td>\n",
       "      <td>0.2</td>\n",
       "      <td>0</td>\n",
       "    </tr>\n",
       "    <tr>\n",
       "      <th>2</th>\n",
       "      <td>4.7</td>\n",
       "      <td>3.2</td>\n",
       "      <td>1.3</td>\n",
       "      <td>0.2</td>\n",
       "      <td>0</td>\n",
       "    </tr>\n",
       "    <tr>\n",
       "      <th>3</th>\n",
       "      <td>4.6</td>\n",
       "      <td>3.1</td>\n",
       "      <td>1.5</td>\n",
       "      <td>0.2</td>\n",
       "      <td>0</td>\n",
       "    </tr>\n",
       "    <tr>\n",
       "      <th>4</th>\n",
       "      <td>5.0</td>\n",
       "      <td>3.6</td>\n",
       "      <td>1.4</td>\n",
       "      <td>0.2</td>\n",
       "      <td>0</td>\n",
       "    </tr>\n",
       "  </tbody>\n",
       "</table>\n",
       "</div>"
      ],
      "text/plain": [
       "   sepal length (cm)  sepal width (cm)  petal length (cm)  petal width (cm)  \\\n",
       "0                5.1               3.5                1.4               0.2   \n",
       "1                4.9               3.0                1.4               0.2   \n",
       "2                4.7               3.2                1.3               0.2   \n",
       "3                4.6               3.1                1.5               0.2   \n",
       "4                5.0               3.6                1.4               0.2   \n",
       "\n",
       "   target  \n",
       "0       0  \n",
       "1       0  \n",
       "2       0  \n",
       "3       0  \n",
       "4       0  "
      ]
     },
     "execution_count": 2,
     "metadata": {},
     "output_type": "execute_result"
    }
   ],
   "source": [
    "table['target'] = iris.target\n",
    "table.head()"
   ]
  },
  {
   "cell_type": "code",
   "execution_count": 3,
   "id": "60805263",
   "metadata": {},
   "outputs": [],
   "source": [
    "x = table.drop(['target'], axis='columns')\n",
    "y = iris.target"
   ]
  },
  {
   "cell_type": "code",
   "execution_count": 4,
   "id": "80bf4ec5",
   "metadata": {},
   "outputs": [],
   "source": [
    "from sklearn.model_selection import train_test_split\n",
    "X_train, X_test, y_train, y_test = train_test_split(x, y, test_size = 0.30, random_state = 0)"
   ]
  },
  {
   "cell_type": "code",
   "execution_count": 5,
   "id": "fad66f26",
   "metadata": {},
   "outputs": [
    {
     "data": {
      "text/plain": [
       "RandomForestClassifier()"
      ]
     },
     "execution_count": 5,
     "metadata": {},
     "output_type": "execute_result"
    }
   ],
   "source": [
    "from sklearn.ensemble import RandomForestClassifier\n",
    "classifier = RandomForestClassifier(n_estimators=100)\n",
    "classifier.fit(X_train, y_train)"
   ]
  },
  {
   "cell_type": "code",
   "execution_count": 6,
   "id": "f8d192e4",
   "metadata": {},
   "outputs": [
    {
     "data": {
      "text/plain": [
       "0.9777777777777777"
      ]
     },
     "execution_count": 6,
     "metadata": {},
     "output_type": "execute_result"
    }
   ],
   "source": [
    "classifier.score(X_test,y_test)"
   ]
  },
  {
   "cell_type": "code",
   "execution_count": null,
   "id": "1648ddc9",
   "metadata": {},
   "outputs": [],
   "source": []
  },
  {
   "cell_type": "code",
   "execution_count": null,
   "id": "ad753ea1",
   "metadata": {},
   "outputs": [],
   "source": []
  },
  {
   "cell_type": "code",
   "execution_count": 7,
   "id": "57a540f6",
   "metadata": {},
   "outputs": [],
   "source": [
    "from sklearn.ensemble import AdaBoostClassifier\n",
    "from sklearn.tree import DecisionTreeClassifier"
   ]
  },
  {
   "cell_type": "code",
   "execution_count": 8,
   "id": "e5b24baf",
   "metadata": {},
   "outputs": [],
   "source": [
    "classifier1 = AdaBoostClassifier(base_estimator=DecisionTreeClassifier(max_depth=3),n_estimators=100)"
   ]
  },
  {
   "cell_type": "code",
   "execution_count": 9,
   "id": "43faada1",
   "metadata": {},
   "outputs": [
    {
     "data": {
      "text/plain": [
       "AdaBoostClassifier(base_estimator=DecisionTreeClassifier(max_depth=3),\n",
       "                   n_estimators=100)"
      ]
     },
     "execution_count": 9,
     "metadata": {},
     "output_type": "execute_result"
    }
   ],
   "source": [
    "classifier1.fit(X_train, y_train)"
   ]
  },
  {
   "cell_type": "code",
   "execution_count": 10,
   "id": "357ee975",
   "metadata": {},
   "outputs": [
    {
     "data": {
      "text/plain": [
       "0.9777777777777777"
      ]
     },
     "execution_count": 10,
     "metadata": {},
     "output_type": "execute_result"
    }
   ],
   "source": [
    "classifier1.score(X_test,y_test)"
   ]
  },
  {
   "cell_type": "code",
   "execution_count": null,
   "id": "aed27f45",
   "metadata": {},
   "outputs": [],
   "source": []
  },
  {
   "cell_type": "code",
   "execution_count": 11,
   "id": "3f2942e3",
   "metadata": {},
   "outputs": [],
   "source": [
    "from sklearn.ensemble import GradientBoostingClassifier"
   ]
  },
  {
   "cell_type": "code",
   "execution_count": 15,
   "id": "92f3d63a",
   "metadata": {},
   "outputs": [],
   "source": [
    "clf = GradientBoostingClassifier(n_estimators=100, learning_rate=0.01)"
   ]
  },
  {
   "cell_type": "code",
   "execution_count": 16,
   "id": "77b5537f",
   "metadata": {},
   "outputs": [
    {
     "data": {
      "text/plain": [
       "GradientBoostingClassifier(learning_rate=0.01)"
      ]
     },
     "execution_count": 16,
     "metadata": {},
     "output_type": "execute_result"
    }
   ],
   "source": [
    "clf.fit(X_train, y_train)"
   ]
  },
  {
   "cell_type": "code",
   "execution_count": 17,
   "id": "79e81610",
   "metadata": {},
   "outputs": [
    {
     "data": {
      "text/plain": [
       "0.9777777777777777"
      ]
     },
     "execution_count": 17,
     "metadata": {},
     "output_type": "execute_result"
    }
   ],
   "source": [
    "clf.score(X_test,y_test)"
   ]
  },
  {
   "cell_type": "code",
   "execution_count": null,
   "id": "5aec3a6f",
   "metadata": {},
   "outputs": [],
   "source": []
  },
  {
   "cell_type": "code",
   "execution_count": null,
   "id": "e5e8fd2a",
   "metadata": {},
   "outputs": [],
   "source": []
  },
  {
   "cell_type": "code",
   "execution_count": 21,
   "id": "bff99b63",
   "metadata": {},
   "outputs": [],
   "source": [
    "from sklearn.ensemble import VotingClassifier\n",
    "from sklearn.svm import SVC\n",
    "from sklearn.linear_model import LogisticRegression\n",
    "from sklearn.tree import DecisionTreeClassifier\n",
    "from sklearn.neighbors import KNeighborsClassifier"
   ]
  },
  {
   "cell_type": "code",
   "execution_count": 22,
   "id": "89326534",
   "metadata": {},
   "outputs": [],
   "source": [
    "estimators = [ \n",
    "    ('m1',RandomForestClassifier(n_estimators=5)),\n",
    "    ('m2',SVC(probability=True)),\n",
    "    ('m3',KNeighborsClassifier(n_neighbors=3)),\n",
    "    ('m4',AdaBoostClassifier(base_estimator=DecisionTreeClassifier() ,n_estimators=5)),\n",
    "    ('m5',LogisticRegression()) \n",
    "]\n"
   ]
  },
  {
   "cell_type": "code",
   "execution_count": 23,
   "id": "7c07fe04",
   "metadata": {},
   "outputs": [],
   "source": [
    "final = VotingClassifier(estimators=estimators, voting='hard')"
   ]
  },
  {
   "cell_type": "code",
   "execution_count": 24,
   "id": "6bc234f2",
   "metadata": {},
   "outputs": [
    {
     "data": {
      "text/plain": [
       "VotingClassifier(estimators=[('m1', RandomForestClassifier(n_estimators=5)),\n",
       "                             ('m2', SVC()),\n",
       "                             ('m3', KNeighborsClassifier(n_neighbors=3)),\n",
       "                             ('m4',\n",
       "                              AdaBoostClassifier(base_estimator=DecisionTreeClassifier(),\n",
       "                                                 n_estimators=5)),\n",
       "                             ('m5', LogisticRegression())])"
      ]
     },
     "execution_count": 24,
     "metadata": {},
     "output_type": "execute_result"
    }
   ],
   "source": [
    "final.fit(X_train, y_train)"
   ]
  },
  {
   "cell_type": "code",
   "execution_count": 25,
   "id": "967ee093",
   "metadata": {},
   "outputs": [
    {
     "name": "stdout",
     "output_type": "stream",
     "text": [
      "0.9111111111111111\n",
      "0.9777777777777777\n",
      "0.9777777777777777\n",
      "0.9777777777777777\n",
      "0.9777777777777777\n"
     ]
    },
    {
     "name": "stderr",
     "output_type": "stream",
     "text": [
      "/opt/anaconda3/lib/python3.9/site-packages/sklearn/neighbors/_classification.py:228: FutureWarning: Unlike other reduction functions (e.g. `skew`, `kurtosis`), the default behavior of `mode` typically preserves the axis it acts along. In SciPy 1.11.0, this behavior will change: the default value of `keepdims` will become False, the `axis` over which the statistic is taken will be eliminated, and the value None will no longer be accepted. Set `keepdims` to True or False to avoid this warning.\n",
      "  mode, _ = stats.mode(_y[neigh_ind, k], axis=1)\n"
     ]
    }
   ],
   "source": [
    "for m in (final.estimators_):\n",
    "    print (m.score(X_test,y_test))\n",
    "    "
   ]
  },
  {
   "cell_type": "code",
   "execution_count": 26,
   "id": "bd984f93",
   "metadata": {},
   "outputs": [
    {
     "name": "stderr",
     "output_type": "stream",
     "text": [
      "/opt/anaconda3/lib/python3.9/site-packages/sklearn/neighbors/_classification.py:228: FutureWarning: Unlike other reduction functions (e.g. `skew`, `kurtosis`), the default behavior of `mode` typically preserves the axis it acts along. In SciPy 1.11.0, this behavior will change: the default value of `keepdims` will become False, the `axis` over which the statistic is taken will be eliminated, and the value None will no longer be accepted. Set `keepdims` to True or False to avoid this warning.\n",
      "  mode, _ = stats.mode(_y[neigh_ind, k], axis=1)\n"
     ]
    },
    {
     "data": {
      "text/plain": [
       "array([[2, 2, 2, 2, 2],\n",
       "       [1, 1, 1, 1, 1],\n",
       "       [0, 0, 0, 0, 0],\n",
       "       [2, 2, 2, 2, 2],\n",
       "       [0, 0, 0, 0, 0],\n",
       "       [2, 2, 2, 2, 2],\n",
       "       [0, 0, 0, 0, 0],\n",
       "       [1, 1, 1, 1, 1],\n",
       "       [1, 1, 1, 1, 1],\n",
       "       [1, 1, 1, 1, 1],\n",
       "       [2, 2, 2, 2, 2],\n",
       "       [1, 1, 1, 1, 1],\n",
       "       [1, 1, 1, 1, 1],\n",
       "       [1, 1, 1, 1, 1],\n",
       "       [1, 1, 1, 1, 1],\n",
       "       [0, 0, 0, 0, 0],\n",
       "       [1, 1, 1, 1, 1],\n",
       "       [1, 1, 1, 1, 1],\n",
       "       [0, 0, 0, 0, 0],\n",
       "       [0, 0, 0, 0, 0],\n",
       "       [1, 2, 2, 2, 2],\n",
       "       [1, 1, 1, 1, 1],\n",
       "       [0, 0, 0, 0, 0],\n",
       "       [0, 0, 0, 0, 0],\n",
       "       [1, 2, 2, 2, 2],\n",
       "       [0, 0, 0, 0, 0],\n",
       "       [0, 0, 0, 0, 0],\n",
       "       [1, 1, 1, 1, 1],\n",
       "       [1, 1, 1, 1, 1],\n",
       "       [0, 0, 0, 0, 0],\n",
       "       [2, 2, 2, 2, 2],\n",
       "       [1, 1, 1, 1, 1],\n",
       "       [0, 0, 0, 0, 0],\n",
       "       [1, 2, 2, 2, 2],\n",
       "       [2, 2, 2, 2, 2],\n",
       "       [1, 1, 1, 1, 1],\n",
       "       [0, 0, 0, 0, 0],\n",
       "       [2, 2, 2, 2, 2],\n",
       "       [1, 1, 1, 1, 1],\n",
       "       [1, 1, 1, 1, 1],\n",
       "       [2, 2, 2, 2, 2],\n",
       "       [0, 0, 0, 0, 0],\n",
       "       [2, 2, 2, 2, 2],\n",
       "       [0, 0, 0, 0, 0],\n",
       "       [0, 0, 0, 0, 0]])"
      ]
     },
     "execution_count": 26,
     "metadata": {},
     "output_type": "execute_result"
    }
   ],
   "source": [
    "final.transform(X_test)"
   ]
  },
  {
   "cell_type": "code",
   "execution_count": null,
   "id": "fc32b32a",
   "metadata": {},
   "outputs": [],
   "source": []
  },
  {
   "cell_type": "code",
   "execution_count": 31,
   "id": "ce6cf98e",
   "metadata": {},
   "outputs": [],
   "source": [
    "estimators = [ \n",
    "    ('m1',RandomForestClassifier(n_estimators=5)),\n",
    "    ('m2',SVC(probability=True)),\n",
    "    ('m3',KNeighborsClassifier(n_neighbors=3)),\n",
    "    ('m4',AdaBoostClassifier(base_estimator=DecisionTreeClassifier() ,n_estimators=5)),\n",
    "    ('m5',LogisticRegression()) \n",
    "]"
   ]
  },
  {
   "cell_type": "code",
   "execution_count": 32,
   "id": "839519f7",
   "metadata": {},
   "outputs": [
    {
     "data": {
      "text/plain": [
       "VotingClassifier(estimators=[('m1', RandomForestClassifier(n_estimators=5)),\n",
       "                             ('m2', SVC(probability=True)),\n",
       "                             ('m3', KNeighborsClassifier(n_neighbors=3)),\n",
       "                             ('m4',\n",
       "                              AdaBoostClassifier(base_estimator=DecisionTreeClassifier(),\n",
       "                                                 n_estimators=5)),\n",
       "                             ('m5', LogisticRegression())],\n",
       "                 voting='soft')"
      ]
     },
     "execution_count": 32,
     "metadata": {},
     "output_type": "execute_result"
    }
   ],
   "source": [
    "final = VotingClassifier(estimators=estimators, voting='soft')\n",
    "final.fit(X_train, y_train)"
   ]
  },
  {
   "cell_type": "code",
   "execution_count": 33,
   "id": "0f63516d",
   "metadata": {},
   "outputs": [
    {
     "name": "stdout",
     "output_type": "stream",
     "text": [
      "0.9555555555555556\n",
      "0.9777777777777777\n",
      "0.9777777777777777\n",
      "0.9777777777777777\n",
      "0.9777777777777777\n"
     ]
    },
    {
     "name": "stderr",
     "output_type": "stream",
     "text": [
      "/opt/anaconda3/lib/python3.9/site-packages/sklearn/neighbors/_classification.py:228: FutureWarning: Unlike other reduction functions (e.g. `skew`, `kurtosis`), the default behavior of `mode` typically preserves the axis it acts along. In SciPy 1.11.0, this behavior will change: the default value of `keepdims` will become False, the `axis` over which the statistic is taken will be eliminated, and the value None will no longer be accepted. Set `keepdims` to True or False to avoid this warning.\n",
      "  mode, _ = stats.mode(_y[neigh_ind, k], axis=1)\n"
     ]
    }
   ],
   "source": [
    "for m in (final.estimators_):\n",
    "    print(m.score(X_test,y_test))"
   ]
  },
  {
   "cell_type": "code",
   "execution_count": 34,
   "id": "f1d0f044",
   "metadata": {},
   "outputs": [
    {
     "data": {
      "text/plain": [
       "array([[0.00000000e+00, 0.00000000e+00, 1.00000000e+00, 1.01359911e-02,\n",
       "        2.92358344e-02, 9.60628174e-01, 0.00000000e+00, 0.00000000e+00,\n",
       "        1.00000000e+00, 2.22044605e-16, 2.22044605e-16, 1.00000000e+00,\n",
       "        1.31643211e-04, 5.98405145e-02, 9.40027842e-01],\n",
       "       [0.00000000e+00, 8.00000000e-01, 2.00000000e-01, 1.11844835e-02,\n",
       "        9.79458865e-01, 9.35665107e-03, 0.00000000e+00, 1.00000000e+00,\n",
       "        0.00000000e+00, 2.22044605e-16, 1.00000000e+00, 2.22044605e-16,\n",
       "        1.33574175e-02, 9.57032687e-01, 2.96098951e-02],\n",
       "       [1.00000000e+00, 0.00000000e+00, 0.00000000e+00, 9.66333391e-01,\n",
       "        2.06156706e-02, 1.30509383e-02, 1.00000000e+00, 0.00000000e+00,\n",
       "        0.00000000e+00, 1.00000000e+00, 2.22044605e-16, 2.22044605e-16,\n",
       "        9.82914247e-01, 1.70856974e-02, 5.56621552e-08],\n",
       "       [0.00000000e+00, 0.00000000e+00, 1.00000000e+00, 1.07503417e-02,\n",
       "        5.30026937e-03, 9.83949389e-01, 0.00000000e+00, 0.00000000e+00,\n",
       "        1.00000000e+00, 2.22044605e-16, 2.22044605e-16, 1.00000000e+00,\n",
       "        1.60363844e-06, 2.60852303e-02, 9.73913166e-01],\n",
       "       [1.00000000e+00, 0.00000000e+00, 0.00000000e+00, 9.59543943e-01,\n",
       "        2.79656733e-02, 1.24903834e-02, 1.00000000e+00, 0.00000000e+00,\n",
       "        0.00000000e+00, 1.00000000e+00, 2.22044605e-16, 2.22044605e-16,\n",
       "        9.68270302e-01, 3.17294629e-02, 2.35566009e-07],\n",
       "       [0.00000000e+00, 0.00000000e+00, 1.00000000e+00, 7.94317023e-03,\n",
       "        1.81005175e-03, 9.90246778e-01, 0.00000000e+00, 0.00000000e+00,\n",
       "        1.00000000e+00, 2.22044605e-16, 2.22044605e-16, 1.00000000e+00,\n",
       "        2.47574287e-06, 6.75603065e-03, 9.93241494e-01],\n",
       "       [1.00000000e+00, 0.00000000e+00, 0.00000000e+00, 9.69321503e-01,\n",
       "        1.98032294e-02, 1.08752674e-02, 1.00000000e+00, 0.00000000e+00,\n",
       "        0.00000000e+00, 1.00000000e+00, 2.22044605e-16, 2.22044605e-16,\n",
       "        9.80355270e-01, 1.96446269e-02, 1.03118306e-07],\n",
       "       [0.00000000e+00, 1.00000000e+00, 0.00000000e+00, 1.05929730e-02,\n",
       "        8.12691740e-01, 1.76715287e-01, 0.00000000e+00, 1.00000000e+00,\n",
       "        0.00000000e+00, 2.22044605e-16, 1.00000000e+00, 2.22044605e-16,\n",
       "        3.00700251e-03, 7.50180481e-01, 2.46812517e-01],\n",
       "       [0.00000000e+00, 8.00000000e-01, 2.00000000e-01, 1.04551642e-02,\n",
       "        7.67360148e-01, 2.22184687e-01, 0.00000000e+00, 1.00000000e+00,\n",
       "        0.00000000e+00, 2.22044605e-16, 1.00000000e+00, 2.22044605e-16,\n",
       "        1.62219290e-03, 7.41288386e-01, 2.57089421e-01],\n",
       "       [0.00000000e+00, 1.00000000e+00, 0.00000000e+00, 1.27558157e-02,\n",
       "        9.75701424e-01, 1.15427600e-02, 0.00000000e+00, 1.00000000e+00,\n",
       "        0.00000000e+00, 2.22044605e-16, 1.00000000e+00, 2.22044605e-16,\n",
       "        2.11325939e-02, 9.32802343e-01, 4.60650633e-02],\n",
       "       [0.00000000e+00, 0.00000000e+00, 1.00000000e+00, 9.45914649e-03,\n",
       "        7.02285914e-02, 9.20312262e-01, 0.00000000e+00, 0.00000000e+00,\n",
       "        1.00000000e+00, 2.22044605e-16, 2.22044605e-16, 1.00000000e+00,\n",
       "        1.02479536e-04, 1.57179749e-01, 8.42717771e-01],\n",
       "       [0.00000000e+00, 1.00000000e+00, 0.00000000e+00, 1.03116247e-02,\n",
       "        9.03017944e-01, 8.66704311e-02, 0.00000000e+00, 1.00000000e+00,\n",
       "        0.00000000e+00, 2.22044605e-16, 1.00000000e+00, 2.22044605e-16,\n",
       "        7.26180014e-03, 8.08730149e-01, 1.84008051e-01],\n",
       "       [0.00000000e+00, 1.00000000e+00, 0.00000000e+00, 7.79152869e-03,\n",
       "        8.76710276e-01, 1.15498195e-01, 0.00000000e+00, 1.00000000e+00,\n",
       "        0.00000000e+00, 2.22044605e-16, 1.00000000e+00, 2.22044605e-16,\n",
       "        4.34542335e-03, 7.84013420e-01, 2.11641157e-01],\n",
       "       [0.00000000e+00, 1.00000000e+00, 0.00000000e+00, 8.80861894e-03,\n",
       "        8.37755346e-01, 1.53436035e-01, 0.00000000e+00, 1.00000000e+00,\n",
       "        0.00000000e+00, 2.22044605e-16, 1.00000000e+00, 2.22044605e-16,\n",
       "        3.22971803e-03, 7.61203027e-01, 2.35567255e-01],\n",
       "       [0.00000000e+00, 1.00000000e+00, 0.00000000e+00, 8.74360559e-03,\n",
       "        8.07385685e-01, 1.83870709e-01, 0.00000000e+00, 6.66666667e-01,\n",
       "        3.33333333e-01, 2.22044605e-16, 1.00000000e+00, 2.22044605e-16,\n",
       "        4.09014123e-03, 7.03055637e-01, 2.92854222e-01],\n",
       "       [1.00000000e+00, 0.00000000e+00, 0.00000000e+00, 9.69936262e-01,\n",
       "        1.90346135e-02, 1.10291248e-02, 1.00000000e+00, 0.00000000e+00,\n",
       "        0.00000000e+00, 1.00000000e+00, 2.22044605e-16, 2.22044605e-16,\n",
       "        9.81567862e-01, 1.84320535e-02, 8.41284467e-08],\n",
       "       [0.00000000e+00, 1.00000000e+00, 0.00000000e+00, 8.41088293e-03,\n",
       "        8.71041571e-01, 1.20547547e-01, 0.00000000e+00, 6.66666667e-01,\n",
       "        3.33333333e-01, 2.22044605e-16, 1.00000000e+00, 2.22044605e-16,\n",
       "        7.00824782e-03, 7.50170845e-01, 2.42820907e-01],\n",
       "       [0.00000000e+00, 1.00000000e+00, 0.00000000e+00, 8.07659785e-03,\n",
       "        9.32742724e-01, 5.91806783e-02, 0.00000000e+00, 1.00000000e+00,\n",
       "        0.00000000e+00, 2.22044605e-16, 1.00000000e+00, 2.22044605e-16,\n",
       "        1.20081612e-02, 8.31524681e-01, 1.56467157e-01],\n",
       "       [1.00000000e+00, 0.00000000e+00, 0.00000000e+00, 9.55954404e-01,\n",
       "        3.11024528e-02, 1.29431430e-02, 1.00000000e+00, 0.00000000e+00,\n",
       "        0.00000000e+00, 1.00000000e+00, 2.22044605e-16, 2.22044605e-16,\n",
       "        9.65466930e-01, 3.45327584e-02, 3.11157160e-07],\n",
       "       [1.00000000e+00, 0.00000000e+00, 0.00000000e+00, 9.67225581e-01,\n",
       "        2.08209097e-02, 1.19535097e-02, 1.00000000e+00, 0.00000000e+00,\n",
       "        0.00000000e+00, 1.00000000e+00, 2.22044605e-16, 2.22044605e-16,\n",
       "        9.81126124e-01, 1.88737905e-02, 8.54187698e-08],\n",
       "       [0.00000000e+00, 2.00000000e-01, 8.00000000e-01, 1.21436783e-02,\n",
       "        1.71650492e-01, 8.16205830e-01, 0.00000000e+00, 0.00000000e+00,\n",
       "        1.00000000e+00, 2.22044605e-16, 2.22044605e-16, 1.00000000e+00,\n",
       "        8.83485919e-04, 1.93953994e-01, 8.05162520e-01],\n",
       "       [0.00000000e+00, 1.00000000e+00, 0.00000000e+00, 9.31759640e-03,\n",
       "        8.52161612e-01, 1.38520792e-01, 0.00000000e+00, 1.00000000e+00,\n",
       "        0.00000000e+00, 2.22044605e-16, 1.00000000e+00, 2.22044605e-16,\n",
       "        1.06468371e-02, 6.98627764e-01, 2.90725399e-01],\n",
       "       [1.00000000e+00, 0.00000000e+00, 0.00000000e+00, 9.22252220e-01,\n",
       "        5.94782975e-02, 1.82694829e-02, 1.00000000e+00, 0.00000000e+00,\n",
       "        0.00000000e+00, 1.00000000e+00, 2.22044605e-16, 2.22044605e-16,\n",
       "        9.41799090e-01, 5.81994163e-02, 1.49323261e-06],\n",
       "       [1.00000000e+00, 0.00000000e+00, 0.00000000e+00, 9.56417392e-01,\n",
       "        2.98518902e-02, 1.37307180e-02, 1.00000000e+00, 0.00000000e+00,\n",
       "        0.00000000e+00, 1.00000000e+00, 2.22044605e-16, 2.22044605e-16,\n",
       "        9.74097665e-01, 2.59020841e-02, 2.50896697e-07],\n",
       "       [0.00000000e+00, 6.00000000e-01, 4.00000000e-01, 1.11105262e-02,\n",
       "        4.30546430e-01, 5.58343044e-01, 0.00000000e+00, 0.00000000e+00,\n",
       "        1.00000000e+00, 2.22044605e-16, 2.22044605e-16, 1.00000000e+00,\n",
       "        1.46164755e-03, 4.31282032e-01, 5.67256321e-01],\n",
       "       [1.00000000e+00, 0.00000000e+00, 0.00000000e+00, 9.80221227e-01,\n",
       "        1.05931138e-02, 9.18565909e-03, 1.00000000e+00, 0.00000000e+00,\n",
       "        0.00000000e+00, 1.00000000e+00, 2.22044605e-16, 2.22044605e-16,\n",
       "        9.93622422e-01, 6.37756331e-03, 1.49722999e-08],\n",
       "       [1.00000000e+00, 0.00000000e+00, 0.00000000e+00, 9.19919887e-01,\n",
       "        6.06904915e-02, 1.93896214e-02, 1.00000000e+00, 0.00000000e+00,\n",
       "        0.00000000e+00, 1.00000000e+00, 2.22044605e-16, 2.22044605e-16,\n",
       "        9.47197051e-01, 5.28013746e-02, 1.57461062e-06],\n",
       "       [0.00000000e+00, 1.00000000e+00, 0.00000000e+00, 9.77545733e-03,\n",
       "        9.61220031e-01, 2.90045114e-02, 0.00000000e+00, 1.00000000e+00,\n",
       "        0.00000000e+00, 2.22044605e-16, 1.00000000e+00, 2.22044605e-16,\n",
       "        1.11619875e-02, 8.96767779e-01, 9.20702334e-02],\n",
       "       [0.00000000e+00, 6.00000000e-01, 4.00000000e-01, 5.71154075e-02,\n",
       "        9.28065123e-01, 1.48194694e-02, 0.00000000e+00, 1.00000000e+00,\n",
       "        0.00000000e+00, 2.22044605e-16, 1.00000000e+00, 2.22044605e-16,\n",
       "        1.43585880e-01, 8.48978909e-01, 7.43521090e-03],\n",
       "       [1.00000000e+00, 0.00000000e+00, 0.00000000e+00, 9.44296557e-01,\n",
       "        4.10656763e-02, 1.46377663e-02, 1.00000000e+00, 0.00000000e+00,\n",
       "        0.00000000e+00, 1.00000000e+00, 2.22044605e-16, 2.22044605e-16,\n",
       "        9.58851956e-01, 4.11474074e-02, 6.36794521e-07],\n",
       "       [0.00000000e+00, 0.00000000e+00, 1.00000000e+00, 9.61605433e-03,\n",
       "        4.83746059e-02, 9.42009340e-01, 0.00000000e+00, 0.00000000e+00,\n",
       "        1.00000000e+00, 2.22044605e-16, 2.22044605e-16, 1.00000000e+00,\n",
       "        1.12255883e-04, 1.20458506e-01, 8.79429239e-01],\n",
       "       [0.00000000e+00, 6.00000000e-01, 4.00000000e-01, 1.00217818e-02,\n",
       "        8.35577242e-01, 1.54400977e-01, 0.00000000e+00, 1.00000000e+00,\n",
       "        0.00000000e+00, 2.22044605e-16, 1.00000000e+00, 2.22044605e-16,\n",
       "        1.22975629e-02, 6.68337981e-01, 3.19364456e-01],\n",
       "       [1.00000000e+00, 0.00000000e+00, 0.00000000e+00, 9.59499631e-01,\n",
       "        2.79018374e-02, 1.25985319e-02, 1.00000000e+00, 0.00000000e+00,\n",
       "        0.00000000e+00, 1.00000000e+00, 2.22044605e-16, 2.22044605e-16,\n",
       "        9.65849488e-01, 3.41502966e-02, 2.15276049e-07],\n",
       "       [0.00000000e+00, 2.00000000e-01, 8.00000000e-01, 1.14336738e-02,\n",
       "        3.49847062e-01, 6.38719264e-01, 0.00000000e+00, 3.33333333e-01,\n",
       "        6.66666667e-01, 2.22044605e-16, 2.22044605e-16, 1.00000000e+00,\n",
       "        1.37112897e-03, 3.61201955e-01, 6.37426916e-01],\n",
       "       [0.00000000e+00, 0.00000000e+00, 1.00000000e+00, 7.94017568e-03,\n",
       "        8.86790237e-03, 9.83191922e-01, 0.00000000e+00, 0.00000000e+00,\n",
       "        1.00000000e+00, 2.22044605e-16, 2.22044605e-16, 1.00000000e+00,\n",
       "        1.76533087e-05, 3.70557974e-02, 9.62926549e-01],\n",
       "       [0.00000000e+00, 6.00000000e-01, 4.00000000e-01, 1.46197900e-02,\n",
       "        9.63511192e-01, 2.18690185e-02, 0.00000000e+00, 1.00000000e+00,\n",
       "        0.00000000e+00, 2.22044605e-16, 1.00000000e+00, 2.22044605e-16,\n",
       "        4.90640697e-02, 8.72312295e-01, 7.86236357e-02],\n",
       "       [1.00000000e+00, 0.00000000e+00, 0.00000000e+00, 9.37293590e-01,\n",
       "        4.52542951e-02, 1.74521145e-02, 1.00000000e+00, 0.00000000e+00,\n",
       "        0.00000000e+00, 1.00000000e+00, 2.22044605e-16, 2.22044605e-16,\n",
       "        9.40753427e-01, 5.92460386e-02, 5.34668104e-07],\n",
       "       [0.00000000e+00, 0.00000000e+00, 1.00000000e+00, 1.05749283e-02,\n",
       "        2.49784046e-01, 7.39641025e-01, 0.00000000e+00, 0.00000000e+00,\n",
       "        1.00000000e+00, 2.22044605e-16, 2.22044605e-16, 1.00000000e+00,\n",
       "        6.49422527e-04, 3.08776840e-01, 6.90573737e-01],\n",
       "       [0.00000000e+00, 1.00000000e+00, 0.00000000e+00, 1.03294162e-02,\n",
       "        9.51243965e-01, 3.84266190e-02, 0.00000000e+00, 1.00000000e+00,\n",
       "        0.00000000e+00, 2.22044605e-16, 1.00000000e+00, 2.22044605e-16,\n",
       "        1.82089310e-02, 8.55214577e-01, 1.26576492e-01],\n",
       "       [0.00000000e+00, 1.00000000e+00, 0.00000000e+00, 1.17133864e-02,\n",
       "        9.76210349e-01, 1.20762649e-02, 0.00000000e+00, 1.00000000e+00,\n",
       "        0.00000000e+00, 2.22044605e-16, 1.00000000e+00, 2.22044605e-16,\n",
       "        2.30421260e-02, 9.29717485e-01, 4.72403888e-02],\n",
       "       [0.00000000e+00, 0.00000000e+00, 1.00000000e+00, 9.37539180e-03,\n",
       "        2.33405105e-02, 9.67284098e-01, 0.00000000e+00, 0.00000000e+00,\n",
       "        1.00000000e+00, 2.22044605e-16, 2.22044605e-16, 1.00000000e+00,\n",
       "        4.21710319e-05, 8.12553389e-02, 9.18702490e-01],\n",
       "       [1.00000000e+00, 0.00000000e+00, 0.00000000e+00, 9.68331011e-01,\n",
       "        2.05107765e-02, 1.11582121e-02, 1.00000000e+00, 0.00000000e+00,\n",
       "        0.00000000e+00, 1.00000000e+00, 2.22044605e-16, 2.22044605e-16,\n",
       "        9.79914994e-01, 2.00848944e-02, 1.11259557e-07],\n",
       "       [0.00000000e+00, 0.00000000e+00, 1.00000000e+00, 1.25255670e-02,\n",
       "        6.99504728e-02, 9.17523960e-01, 0.00000000e+00, 0.00000000e+00,\n",
       "        1.00000000e+00, 2.22044605e-16, 2.22044605e-16, 1.00000000e+00,\n",
       "        1.76077639e-04, 1.55985256e-01, 8.43838666e-01],\n",
       "       [1.00000000e+00, 0.00000000e+00, 0.00000000e+00, 9.39238927e-01,\n",
       "        4.50933813e-02, 1.56676922e-02, 1.00000000e+00, 0.00000000e+00,\n",
       "        0.00000000e+00, 1.00000000e+00, 2.22044605e-16, 2.22044605e-16,\n",
       "        9.60721162e-01, 3.92779003e-02, 9.37972854e-07],\n",
       "       [1.00000000e+00, 0.00000000e+00, 0.00000000e+00, 9.59878417e-01,\n",
       "        2.71456360e-02, 1.29759474e-02, 1.00000000e+00, 0.00000000e+00,\n",
       "        0.00000000e+00, 1.00000000e+00, 2.22044605e-16, 2.22044605e-16,\n",
       "        9.67030148e-01, 3.29696802e-02, 1.72056836e-07]])"
      ]
     },
     "execution_count": 34,
     "metadata": {},
     "output_type": "execute_result"
    }
   ],
   "source": [
    "final.transform(X_test)"
   ]
  },
  {
   "cell_type": "code",
   "execution_count": null,
   "id": "d3c5e09d",
   "metadata": {},
   "outputs": [],
   "source": []
  },
  {
   "cell_type": "code",
   "execution_count": 18,
   "id": "dfedd9b2",
   "metadata": {},
   "outputs": [
    {
     "data": {
      "image/png": "[encoded data removed]",
      "text/plain": [
       "<Figure size 640x480 with 1 Axes>"
      ]
     },
     "metadata": {},
     "output_type": "display_data"
    }
   ],
   "source": [
    "from sklearn.datasets import make_regression\n",
    "x,y = make_regression(n_features=1, noise=2, n_samples=10000,random_state=0)\n",
    "import matplotlib.pyplot as plt\n",
    "plt.scatter(x,y,s=2)\n",
    "plt.xlabel('x')\n",
    "plt.ylabel('y')\n",
    "plt.show()"
   ]
  },
  {
   "cell_type": "code",
   "execution_count": 19,
   "id": "93f39c81",
   "metadata": {},
   "outputs": [
    {
     "data": {
      "text/plain": [
       "RandomForestRegressor()"
      ]
     },
     "execution_count": 19,
     "metadata": {},
     "output_type": "execute_result"
    }
   ],
   "source": [
    "from sklearn.ensemble import RandomForestRegressor\n",
    "reg = RandomForestRegressor(n_estimators=100)\n",
    "reg.fit(x, y)"
   ]
  },
  {
   "cell_type": "code",
   "execution_count": 20,
   "id": "40146c0a",
   "metadata": {},
   "outputs": [
    {
     "data": {
      "text/plain": [
       "0.9910792199680615"
      ]
     },
     "execution_count": 20,
     "metadata": {},
     "output_type": "execute_result"
    }
   ],
   "source": [
    "reg.score(x, y)"
   ]
  },
  {
   "cell_type": "code",
   "execution_count": null,
   "id": "927eedfe",
   "metadata": {},
   "outputs": [],
   "source": []
  },
  {
   "cell_type": "code",
   "execution_count": 26,
   "id": "245e9127",
   "metadata": {},
   "outputs": [
    {
     "data": {
      "text/plain": [
       "GradientBoostingRegressor(n_estimators=200)"
      ]
     },
     "execution_count": 26,
     "metadata": {},
     "output_type": "execute_result"
    }
   ],
   "source": [
    "from sklearn.ensemble import GradientBoostingRegressor\n",
    "reg = GradientBoostingRegressor(n_estimators=200, learning_rate=0.1)\n",
    "reg.fit(x,y)"
   ]
  },
  {
   "cell_type": "code",
   "execution_count": 27,
   "id": "26ab4e7f",
   "metadata": {},
   "outputs": [
    {
     "data": {
      "text/plain": [
       "0.9597966315621096"
      ]
     },
     "execution_count": 27,
     "metadata": {},
     "output_type": "execute_result"
    }
   ],
   "source": [
    "reg.score(x, y)"
   ]
  },
  {
   "cell_type": "code",
   "execution_count": null,
   "id": "6bd19364",
   "metadata": {},
   "outputs": [],
   "source": []
  }
 ],
 "metadata": {
  "kernelspec": {
   "display_name": "Python 3 (ipykernel)",
   "language": "python",
   "name": "python3"
  },
  "language_info": {
   "codemirror_mode": {
    "name": "ipython",
    "version": 3
   },
   "file_extension": ".py",
   "mimetype": "text/x-python",
   "name": "python",
   "nbconvert_exporter": "python",
   "pygments_lexer": "ipython3",
   "version": "3.9.13"
  }
 },
 "nbformat": 4,
 "nbformat_minor": 5
}
