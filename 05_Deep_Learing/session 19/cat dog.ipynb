{
 "cells": [
  {
   "cell_type": "code",
   "execution_count": 1,
   "id": "05f6dc60",
   "metadata": {},
   "outputs": [],
   "source": [
    "import pandas as pd\n",
    "import numpy as np\n",
    "import warnings\n",
    "warnings.simplefilter('ignore')\n",
    "import matplotlib.pyplot as plt\n",
    "from keras.models import Sequential\n",
    "from keras.layers import Convolution2D\n",
    "from keras.layers import MaxPooling2D\n",
    "from keras.layers import Dense\n",
    "from keras.layers import Flatten"
   ]
  },
  {
   "cell_type": "code",
   "execution_count": 2,
   "id": "326b6dc7",
   "metadata": {},
   "outputs": [],
   "source": [
    "from keras.preprocessing.image import ImageDataGenerator\n",
    "train = ImageDataGenerator(rescale = 1./255)\n",
    "test = ImageDataGenerator(rescale = 1./255)"
   ]
  },
  {
   "cell_type": "code",
   "execution_count": 3,
   "id": "3fe04bef",
   "metadata": {},
   "outputs": [
    {
     "name": "stdout",
     "output_type": "stream",
     "text": [
      "Found 82 images belonging to 2 classes.\n",
      "Found 22 images belonging to 2 classes.\n"
     ]
    }
   ],
   "source": [
    "train_data = train.flow_from_directory('/Users/shridharmankar/Desktop/imggg/train',\n",
    "                                                 target_size = (100, 100),\n",
    "                                                 class_mode = 'binary')\n",
    "\n",
    "test_data = test.flow_from_directory('/Users/shridharmankar/Desktop/imggg/test',\n",
    "                                            target_size = (100, 100),\n",
    "                                            class_mode = 'binary')"
   ]
  },
  {
   "cell_type": "code",
   "execution_count": 4,
   "id": "a085fb12",
   "metadata": {},
   "outputs": [
    {
     "name": "stdout",
     "output_type": "stream",
     "text": [
      "Epoch 1/10\n"
     ]
    },
    {
     "name": "stderr",
     "output_type": "stream",
     "text": [
      "2023-11-27 20:13:03.631050: I tensorflow/core/common_runtime/executor.cc:1197] [/device:CPU:0] (DEBUG INFO) Executor start aborting (this does not indicate an error and you can ignore this message): INVALID_ARGUMENT: You must feed a value for placeholder tensor 'Placeholder/_0' with dtype int32\n",
      "\t [[{{node Placeholder/_0}}]]\n",
      "2023-11-27 20:13:03.658950: W tensorflow/tsl/platform/profile_utils/cpu_utils.cc:128] Failed to get CPU frequency: 0 Hz\n"
     ]
    },
    {
     "name": "stdout",
     "output_type": "stream",
     "text": [
      "3/3 [==============================] - 1s 299ms/step - loss: 0.6343 - accuracy: 0.6098 - val_loss: 0.5209 - val_accuracy: 0.7273\n",
      "Epoch 2/10\n"
     ]
    },
    {
     "name": "stderr",
     "output_type": "stream",
     "text": [
      "2023-11-27 20:13:04.431623: I tensorflow/core/common_runtime/executor.cc:1197] [/device:CPU:0] (DEBUG INFO) Executor start aborting (this does not indicate an error and you can ignore this message): INVALID_ARGUMENT: You must feed a value for placeholder tensor 'Placeholder/_0' with dtype int32\n",
      "\t [[{{node Placeholder/_0}}]]\n"
     ]
    },
    {
     "name": "stdout",
     "output_type": "stream",
     "text": [
      "3/3 [==============================] - 1s 209ms/step - loss: 0.3923 - accuracy: 0.8415 - val_loss: 0.4327 - val_accuracy: 0.8182\n",
      "Epoch 3/10\n",
      "3/3 [==============================] - 1s 201ms/step - loss: 0.2584 - accuracy: 0.9268 - val_loss: 0.4506 - val_accuracy: 0.8182\n",
      "Epoch 4/10\n",
      "3/3 [==============================] - 1s 203ms/step - loss: 0.1914 - accuracy: 0.9268 - val_loss: 0.4350 - val_accuracy: 0.8636\n",
      "Epoch 5/10\n",
      "3/3 [==============================] - 1s 242ms/step - loss: 0.1559 - accuracy: 0.9756 - val_loss: 0.4961 - val_accuracy: 0.8182\n",
      "Epoch 6/10\n",
      "3/3 [==============================] - 1s 244ms/step - loss: 0.1188 - accuracy: 0.9756 - val_loss: 0.5010 - val_accuracy: 0.8182\n",
      "Epoch 7/10\n",
      "3/3 [==============================] - 1s 203ms/step - loss: 0.0759 - accuracy: 0.9878 - val_loss: 0.5334 - val_accuracy: 0.7727\n",
      "Epoch 8/10\n",
      "3/3 [==============================] - 1s 242ms/step - loss: 0.0661 - accuracy: 0.9878 - val_loss: 0.5560 - val_accuracy: 0.8182\n",
      "Epoch 9/10\n",
      "3/3 [==============================] - 1s 201ms/step - loss: 0.0499 - accuracy: 0.9878 - val_loss: 0.5767 - val_accuracy: 0.8182\n",
      "Epoch 10/10\n",
      "3/3 [==============================] - 1s 203ms/step - loss: 0.0416 - accuracy: 0.9878 - val_loss: 0.5982 - val_accuracy: 0.8182\n"
     ]
    },
    {
     "data": {
      "text/plain": [
       "<keras.callbacks.History at 0x15a047ac0>"
      ]
     },
     "execution_count": 4,
     "metadata": {},
     "output_type": "execute_result"
    }
   ],
   "source": [
    "classifier=Sequential()\n",
    "classifier.add(Convolution2D(32,3,3,input_shape=(100,100,3),activation='relu'))\n",
    "classifier.add(MaxPooling2D(pool_size=(2,2)))\n",
    "classifier.add(Flatten())\n",
    "classifier.add(Dense(128,activation='relu'))\n",
    "classifier.add(Dense(1,activation='sigmoid'))\n",
    "\n",
    "classifier.compile(optimizer='adam',\n",
    "              loss='BinaryCrossentropy',\n",
    "              metrics=['accuracy'])\n",
    "\n",
    "classifier.fit_generator(train_data,epochs=10,validation_data=test_data)"
   ]
  },
  {
   "cell_type": "code",
   "execution_count": 5,
   "id": "2c291fe1",
   "metadata": {},
   "outputs": [],
   "source": [
    "from tensorflow import keras\n",
    "def predict(path,classifier):\n",
    "    predict = keras.utils.load_img(path, target_size = (100,100))   \n",
    "    predict_modified = keras.utils.img_to_array(predict)\n",
    "    predict_modified = predict_modified / 255\n",
    "    predict_modified = np.expand_dims(predict_modified, axis = 0)\n",
    "    final = classifier.predict(predict_modified)\n",
    "    print(final)"
   ]
  },
  {
   "cell_type": "code",
   "execution_count": 6,
   "id": "7b5634a6",
   "metadata": {},
   "outputs": [
    {
     "name": "stdout",
     "output_type": "stream",
     "text": [
      "1/1 [==============================] - 0s 28ms/step\n",
      "[[0.00122896]]\n"
     ]
    }
   ],
   "source": [
    "path = '/Users/shridharmankar/Desktop/imggg/1.png'\n",
    "predict(path,classifier)"
   ]
  },
  {
   "cell_type": "code",
   "execution_count": 7,
   "id": "048ae2e7",
   "metadata": {},
   "outputs": [
    {
     "name": "stdout",
     "output_type": "stream",
     "text": [
      "1/1 [==============================] - 0s 11ms/step\n",
      "[[0.97638535]]\n"
     ]
    }
   ],
   "source": [
    "path = '/Users/shridharmankar/Desktop/imggg/2.png'\n",
    "predict(path,classifier)"
   ]
  },
  {
   "cell_type": "code",
   "execution_count": 10,
   "id": "d3e02765",
   "metadata": {},
   "outputs": [],
   "source": [
    "classifier.save('clf.h5')"
   ]
  },
  {
   "cell_type": "code",
   "execution_count": null,
   "id": "1b43710b",
   "metadata": {},
   "outputs": [],
   "source": []
  },
  {
   "cell_type": "code",
   "execution_count": null,
   "id": "44e6a741",
   "metadata": {},
   "outputs": [],
   "source": [
    "from tensorflow.keras.utils import img_to_array,array_to_img,load_img\n",
    "\n",
    "dataaug = ImageDataGenerator(\n",
    "        rotation_range=20,\n",
    "        width_shift_range=0.3,\n",
    "        height_shift_range=0.1,\n",
    "        zoom_range=0.5,\n",
    "        horizontal_flip=True,\n",
    "        vertical_flip=True,\n",
    "        fill_mode='nearest')\n",
    "\n",
    "img = load_img('/Users/shridharmankar/Desktop/imggg/2.png')  \n",
    "pic = img_to_array(img) \n",
    "pic = pic.reshape((1,) + pic.shape)\n",
    "\n",
    "i = 0\n",
    "for x in dataaug.flow(pic, batch_size=1,\n",
    "                          save_to_dir='/Users/shridharmankar/Desktop/imggg/test/dog', save_prefix='cat', save_format='jpeg'):\n",
    "    i += 1\n",
    "    if i > 10:\n",
    "        break  "
   ]
  },
  {
   "cell_type": "code",
   "execution_count": null,
   "id": "558d8edf",
   "metadata": {},
   "outputs": [],
   "source": []
  }
 ],
 "metadata": {
  "kernelspec": {
   "display_name": "Python 3 (ipykernel)",
   "language": "python",
   "name": "python3"
  },
  "language_info": {
   "codemirror_mode": {
    "name": "ipython",
    "version": 3
   },
   "file_extension": ".py",
   "mimetype": "text/x-python",
   "name": "python",
   "nbconvert_exporter": "python",
   "pygments_lexer": "ipython3",
   "version": "3.9.13"
  }
 },
 "nbformat": 4,
 "nbformat_minor": 5
}
