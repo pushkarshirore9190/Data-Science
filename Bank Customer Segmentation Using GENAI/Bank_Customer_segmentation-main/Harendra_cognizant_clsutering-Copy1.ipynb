{
 "cells": [
  {
   "cell_type": "code",
   "execution_count": 1,
   "id": "e952c0a6-6006-4abc-880a-2df1a39827fb",
   "metadata": {},
   "outputs": [],
   "source": [
    "import numpy as np\n",
    "import pandas as pd\n",
    "from matplotlib import pyplot as plt\n",
    "import seaborn as sns\n",
    "import re"
   ]
  },
  {
   "cell_type": "code",
   "execution_count": 2,
   "id": "101e5e43-09f9-44f6-b93e-2af4625c7eac",
   "metadata": {},
   "outputs": [
    {
     "ename": "FileNotFoundError",
     "evalue": "[Errno 2] No such file or directory: '/Users/harendrakshirsagar/Downloads/cognizant.csv'",
     "output_type": "error",
     "traceback": [
      "\u001b[0;31m---------------------------------------------------------------------------\u001b[0m",
      "\u001b[0;31mFileNotFoundError\u001b[0m                         Traceback (most recent call last)",
      "Cell \u001b[0;32mIn[2], line 1\u001b[0m\n\u001b[0;32m----> 1\u001b[0m df \u001b[38;5;241m=\u001b[39m pd\u001b[38;5;241m.\u001b[39mread_csv(\u001b[38;5;124m'\u001b[39m\u001b[38;5;124m/Users/harendrakshirsagar/Downloads/cognizant.csv\u001b[39m\u001b[38;5;124m'\u001b[39m)\n",
      "File \u001b[0;32m~/anaconda3/lib/python3.11/site-packages/pandas/io/parsers/readers.py:912\u001b[0m, in \u001b[0;36mread_csv\u001b[0;34m(filepath_or_buffer, sep, delimiter, header, names, index_col, usecols, dtype, engine, converters, true_values, false_values, skipinitialspace, skiprows, skipfooter, nrows, na_values, keep_default_na, na_filter, verbose, skip_blank_lines, parse_dates, infer_datetime_format, keep_date_col, date_parser, date_format, dayfirst, cache_dates, iterator, chunksize, compression, thousands, decimal, lineterminator, quotechar, quoting, doublequote, escapechar, comment, encoding, encoding_errors, dialect, on_bad_lines, delim_whitespace, low_memory, memory_map, float_precision, storage_options, dtype_backend)\u001b[0m\n\u001b[1;32m    899\u001b[0m kwds_defaults \u001b[38;5;241m=\u001b[39m _refine_defaults_read(\n\u001b[1;32m    900\u001b[0m     dialect,\n\u001b[1;32m    901\u001b[0m     delimiter,\n\u001b[0;32m   (...)\u001b[0m\n\u001b[1;32m    908\u001b[0m     dtype_backend\u001b[38;5;241m=\u001b[39mdtype_backend,\n\u001b[1;32m    909\u001b[0m )\n\u001b[1;32m    910\u001b[0m kwds\u001b[38;5;241m.\u001b[39mupdate(kwds_defaults)\n\u001b[0;32m--> 912\u001b[0m \u001b[38;5;28;01mreturn\u001b[39;00m _read(filepath_or_buffer, kwds)\n",
      "File \u001b[0;32m~/anaconda3/lib/python3.11/site-packages/pandas/io/parsers/readers.py:577\u001b[0m, in \u001b[0;36m_read\u001b[0;34m(filepath_or_buffer, kwds)\u001b[0m\n\u001b[1;32m    574\u001b[0m _validate_names(kwds\u001b[38;5;241m.\u001b[39mget(\u001b[38;5;124m\"\u001b[39m\u001b[38;5;124mnames\u001b[39m\u001b[38;5;124m\"\u001b[39m, \u001b[38;5;28;01mNone\u001b[39;00m))\n\u001b[1;32m    576\u001b[0m \u001b[38;5;66;03m# Create the parser.\u001b[39;00m\n\u001b[0;32m--> 577\u001b[0m parser \u001b[38;5;241m=\u001b[39m TextFileReader(filepath_or_buffer, \u001b[38;5;241m*\u001b[39m\u001b[38;5;241m*\u001b[39mkwds)\n\u001b[1;32m    579\u001b[0m \u001b[38;5;28;01mif\u001b[39;00m chunksize \u001b[38;5;129;01mor\u001b[39;00m iterator:\n\u001b[1;32m    580\u001b[0m     \u001b[38;5;28;01mreturn\u001b[39;00m parser\n",
      "File \u001b[0;32m~/anaconda3/lib/python3.11/site-packages/pandas/io/parsers/readers.py:1407\u001b[0m, in \u001b[0;36mTextFileReader.__init__\u001b[0;34m(self, f, engine, **kwds)\u001b[0m\n\u001b[1;32m   1404\u001b[0m     \u001b[38;5;28mself\u001b[39m\u001b[38;5;241m.\u001b[39moptions[\u001b[38;5;124m\"\u001b[39m\u001b[38;5;124mhas_index_names\u001b[39m\u001b[38;5;124m\"\u001b[39m] \u001b[38;5;241m=\u001b[39m kwds[\u001b[38;5;124m\"\u001b[39m\u001b[38;5;124mhas_index_names\u001b[39m\u001b[38;5;124m\"\u001b[39m]\n\u001b[1;32m   1406\u001b[0m \u001b[38;5;28mself\u001b[39m\u001b[38;5;241m.\u001b[39mhandles: IOHandles \u001b[38;5;241m|\u001b[39m \u001b[38;5;28;01mNone\u001b[39;00m \u001b[38;5;241m=\u001b[39m \u001b[38;5;28;01mNone\u001b[39;00m\n\u001b[0;32m-> 1407\u001b[0m \u001b[38;5;28mself\u001b[39m\u001b[38;5;241m.\u001b[39m_engine \u001b[38;5;241m=\u001b[39m \u001b[38;5;28mself\u001b[39m\u001b[38;5;241m.\u001b[39m_make_engine(f, \u001b[38;5;28mself\u001b[39m\u001b[38;5;241m.\u001b[39mengine)\n",
      "File \u001b[0;32m~/anaconda3/lib/python3.11/site-packages/pandas/io/parsers/readers.py:1661\u001b[0m, in \u001b[0;36mTextFileReader._make_engine\u001b[0;34m(self, f, engine)\u001b[0m\n\u001b[1;32m   1659\u001b[0m     \u001b[38;5;28;01mif\u001b[39;00m \u001b[38;5;124m\"\u001b[39m\u001b[38;5;124mb\u001b[39m\u001b[38;5;124m\"\u001b[39m \u001b[38;5;129;01mnot\u001b[39;00m \u001b[38;5;129;01min\u001b[39;00m mode:\n\u001b[1;32m   1660\u001b[0m         mode \u001b[38;5;241m+\u001b[39m\u001b[38;5;241m=\u001b[39m \u001b[38;5;124m\"\u001b[39m\u001b[38;5;124mb\u001b[39m\u001b[38;5;124m\"\u001b[39m\n\u001b[0;32m-> 1661\u001b[0m \u001b[38;5;28mself\u001b[39m\u001b[38;5;241m.\u001b[39mhandles \u001b[38;5;241m=\u001b[39m get_handle(\n\u001b[1;32m   1662\u001b[0m     f,\n\u001b[1;32m   1663\u001b[0m     mode,\n\u001b[1;32m   1664\u001b[0m     encoding\u001b[38;5;241m=\u001b[39m\u001b[38;5;28mself\u001b[39m\u001b[38;5;241m.\u001b[39moptions\u001b[38;5;241m.\u001b[39mget(\u001b[38;5;124m\"\u001b[39m\u001b[38;5;124mencoding\u001b[39m\u001b[38;5;124m\"\u001b[39m, \u001b[38;5;28;01mNone\u001b[39;00m),\n\u001b[1;32m   1665\u001b[0m     compression\u001b[38;5;241m=\u001b[39m\u001b[38;5;28mself\u001b[39m\u001b[38;5;241m.\u001b[39moptions\u001b[38;5;241m.\u001b[39mget(\u001b[38;5;124m\"\u001b[39m\u001b[38;5;124mcompression\u001b[39m\u001b[38;5;124m\"\u001b[39m, \u001b[38;5;28;01mNone\u001b[39;00m),\n\u001b[1;32m   1666\u001b[0m     memory_map\u001b[38;5;241m=\u001b[39m\u001b[38;5;28mself\u001b[39m\u001b[38;5;241m.\u001b[39moptions\u001b[38;5;241m.\u001b[39mget(\u001b[38;5;124m\"\u001b[39m\u001b[38;5;124mmemory_map\u001b[39m\u001b[38;5;124m\"\u001b[39m, \u001b[38;5;28;01mFalse\u001b[39;00m),\n\u001b[1;32m   1667\u001b[0m     is_text\u001b[38;5;241m=\u001b[39mis_text,\n\u001b[1;32m   1668\u001b[0m     errors\u001b[38;5;241m=\u001b[39m\u001b[38;5;28mself\u001b[39m\u001b[38;5;241m.\u001b[39moptions\u001b[38;5;241m.\u001b[39mget(\u001b[38;5;124m\"\u001b[39m\u001b[38;5;124mencoding_errors\u001b[39m\u001b[38;5;124m\"\u001b[39m, \u001b[38;5;124m\"\u001b[39m\u001b[38;5;124mstrict\u001b[39m\u001b[38;5;124m\"\u001b[39m),\n\u001b[1;32m   1669\u001b[0m     storage_options\u001b[38;5;241m=\u001b[39m\u001b[38;5;28mself\u001b[39m\u001b[38;5;241m.\u001b[39moptions\u001b[38;5;241m.\u001b[39mget(\u001b[38;5;124m\"\u001b[39m\u001b[38;5;124mstorage_options\u001b[39m\u001b[38;5;124m\"\u001b[39m, \u001b[38;5;28;01mNone\u001b[39;00m),\n\u001b[1;32m   1670\u001b[0m )\n\u001b[1;32m   1671\u001b[0m \u001b[38;5;28;01massert\u001b[39;00m \u001b[38;5;28mself\u001b[39m\u001b[38;5;241m.\u001b[39mhandles \u001b[38;5;129;01mis\u001b[39;00m \u001b[38;5;129;01mnot\u001b[39;00m \u001b[38;5;28;01mNone\u001b[39;00m\n\u001b[1;32m   1672\u001b[0m f \u001b[38;5;241m=\u001b[39m \u001b[38;5;28mself\u001b[39m\u001b[38;5;241m.\u001b[39mhandles\u001b[38;5;241m.\u001b[39mhandle\n",
      "File \u001b[0;32m~/anaconda3/lib/python3.11/site-packages/pandas/io/common.py:859\u001b[0m, in \u001b[0;36mget_handle\u001b[0;34m(path_or_buf, mode, encoding, compression, memory_map, is_text, errors, storage_options)\u001b[0m\n\u001b[1;32m    854\u001b[0m \u001b[38;5;28;01melif\u001b[39;00m \u001b[38;5;28misinstance\u001b[39m(handle, \u001b[38;5;28mstr\u001b[39m):\n\u001b[1;32m    855\u001b[0m     \u001b[38;5;66;03m# Check whether the filename is to be opened in binary mode.\u001b[39;00m\n\u001b[1;32m    856\u001b[0m     \u001b[38;5;66;03m# Binary mode does not support 'encoding' and 'newline'.\u001b[39;00m\n\u001b[1;32m    857\u001b[0m     \u001b[38;5;28;01mif\u001b[39;00m ioargs\u001b[38;5;241m.\u001b[39mencoding \u001b[38;5;129;01mand\u001b[39;00m \u001b[38;5;124m\"\u001b[39m\u001b[38;5;124mb\u001b[39m\u001b[38;5;124m\"\u001b[39m \u001b[38;5;129;01mnot\u001b[39;00m \u001b[38;5;129;01min\u001b[39;00m ioargs\u001b[38;5;241m.\u001b[39mmode:\n\u001b[1;32m    858\u001b[0m         \u001b[38;5;66;03m# Encoding\u001b[39;00m\n\u001b[0;32m--> 859\u001b[0m         handle \u001b[38;5;241m=\u001b[39m \u001b[38;5;28mopen\u001b[39m(\n\u001b[1;32m    860\u001b[0m             handle,\n\u001b[1;32m    861\u001b[0m             ioargs\u001b[38;5;241m.\u001b[39mmode,\n\u001b[1;32m    862\u001b[0m             encoding\u001b[38;5;241m=\u001b[39mioargs\u001b[38;5;241m.\u001b[39mencoding,\n\u001b[1;32m    863\u001b[0m             errors\u001b[38;5;241m=\u001b[39merrors,\n\u001b[1;32m    864\u001b[0m             newline\u001b[38;5;241m=\u001b[39m\u001b[38;5;124m\"\u001b[39m\u001b[38;5;124m\"\u001b[39m,\n\u001b[1;32m    865\u001b[0m         )\n\u001b[1;32m    866\u001b[0m     \u001b[38;5;28;01melse\u001b[39;00m:\n\u001b[1;32m    867\u001b[0m         \u001b[38;5;66;03m# Binary mode\u001b[39;00m\n\u001b[1;32m    868\u001b[0m         handle \u001b[38;5;241m=\u001b[39m \u001b[38;5;28mopen\u001b[39m(handle, ioargs\u001b[38;5;241m.\u001b[39mmode)\n",
      "\u001b[0;31mFileNotFoundError\u001b[0m: [Errno 2] No such file or directory: '/Users/harendrakshirsagar/Downloads/cognizant.csv'"
     ]
    }
   ],
   "source": [
    "df = pd.read_csv('/Users/harendrakshirsagar/Downloads/cognizant.csv')"
   ]
  },
  {
   "cell_type": "markdown",
   "id": "2cf16f39",
   "metadata": {},
   "source": [
    "# Preprocessing"
   ]
  },
  {
   "cell_type": "markdown",
   "id": "df6279f8",
   "metadata": {},
   "source": [
    "df"
   ]
  },
  {
   "cell_type": "code",
   "execution_count": null,
   "id": "f18f0e6a",
   "metadata": {},
   "outputs": [],
   "source": [
    "df.columns"
   ]
  },
  {
   "cell_type": "code",
   "execution_count": null,
   "id": "3e7104f1",
   "metadata": {},
   "outputs": [],
   "source": [
    "df['Bank Products'] = df['Bank Products'].apply(lambda x: len(x.split(',')))"
   ]
  },
  {
   "cell_type": "code",
   "execution_count": null,
   "id": "93c6d534-8725-4365-8f68-0a6bdd291646",
   "metadata": {},
   "outputs": [],
   "source": [
    "df"
   ]
  },
  {
   "cell_type": "code",
   "execution_count": null,
   "id": "c716bf9c-ae79-4c02-8ef8-6ae6353f79a4",
   "metadata": {},
   "outputs": [],
   "source": [
    "df.isnull().sum()"
   ]
  },
  {
   "cell_type": "code",
   "execution_count": null,
   "id": "d59c1331",
   "metadata": {},
   "outputs": [],
   "source": [
    "df.rename(columns={'Bank Products': 'Bank_Products', 'Fixed Deposit ': 'Fixed Deposit','Total Active loans':'Active_loans','Credit Score(in range of 300,900)':'credit_score','Transaction in last Month':'LastMonthTrans'}, inplace=True)\n",
    "df"
   ]
  },
  {
   "cell_type": "code",
   "execution_count": null,
   "id": "69af65dc",
   "metadata": {},
   "outputs": [],
   "source": [
    "mode_status = df['Married'].mode()[0]"
   ]
  },
  {
   "cell_type": "code",
   "execution_count": null,
   "id": "d9e0566f",
   "metadata": {},
   "outputs": [],
   "source": [
    "def handle_nulls(row):\n",
    "    if pd.isnull(row['Married']) and row['Age'] > 25:\n",
    "        return mode_status\n",
    "    return row['Married']"
   ]
  },
  {
   "cell_type": "code",
   "execution_count": null,
   "id": "e8686749",
   "metadata": {},
   "outputs": [],
   "source": [
    "df['Married'] = df.apply(handle_nulls, axis=1)"
   ]
  },
  {
   "cell_type": "code",
   "execution_count": null,
   "id": "3852f879",
   "metadata": {},
   "outputs": [],
   "source": [
    "\n",
    "df.isnull().sum()"
   ]
  },
  {
   "cell_type": "code",
   "execution_count": null,
   "id": "4e6d15cb",
   "metadata": {},
   "outputs": [],
   "source": [
    "df=df.drop(columns='Timestamp',axis=1)"
   ]
  },
  {
   "cell_type": "code",
   "execution_count": null,
   "id": "7aae736f",
   "metadata": {},
   "outputs": [],
   "source": []
  },
  {
   "cell_type": "code",
   "execution_count": null,
   "id": "96fcb347",
   "metadata": {},
   "outputs": [],
   "source": [
    "df.dtypes"
   ]
  },
  {
   "cell_type": "code",
   "execution_count": null,
   "id": "0bec52f3",
   "metadata": {},
   "outputs": [],
   "source": [
    "df['Annual Income'] = df['Annual Income'].astype(str).str.replace(',', '').astype(int)\n"
   ]
  },
  {
   "cell_type": "code",
   "execution_count": null,
   "id": "34ae03ab",
   "metadata": {},
   "outputs": [],
   "source": [
    "df['AccountBalance'] = df['AccountBalance'].str.replace(',', '').astype(int)"
   ]
  },
  {
   "cell_type": "code",
   "execution_count": null,
   "id": "06a001b9",
   "metadata": {},
   "outputs": [],
   "source": [
    "describe_df=df.describe()"
   ]
  },
  {
   "cell_type": "code",
   "execution_count": null,
   "id": "7b7813a6",
   "metadata": {},
   "outputs": [],
   "source": [
    "df.dtypes"
   ]
  },
  {
   "cell_type": "code",
   "execution_count": null,
   "id": "38fe98dc",
   "metadata": {},
   "outputs": [],
   "source": [
    "columns_to_format = ['Active_loans', 'Networth','Annual Income','AccountBalance']\n",
    "for col in columns_to_format:\n",
    "    if describe_df[col].dtype in ['float64', 'int64']:\n",
    "        describe_df[col] = describe_df[col].apply(lambda x: f'{x:.6f}')"
   ]
  },
  {
   "cell_type": "code",
   "execution_count": null,
   "id": "fc822b08",
   "metadata": {},
   "outputs": [],
   "source": [
    "describe_df"
   ]
  },
  {
   "cell_type": "markdown",
   "id": "5c62592a",
   "metadata": {},
   "source": [
    "# Age "
   ]
  },
  {
   "cell_type": "code",
   "execution_count": null,
   "id": "cc378d43-354b-4677-b378-bdcfb6348f6f",
   "metadata": {},
   "outputs": [],
   "source": [
    "df['Age'].mean()"
   ]
  },
  {
   "cell_type": "code",
   "execution_count": null,
   "id": "3b08612a-b9ee-4dd6-9ace-0d378f493de0",
   "metadata": {},
   "outputs": [],
   "source": [
    "df['Age'].describe()"
   ]
  },
  {
   "cell_type": "code",
   "execution_count": null,
   "id": "42dc6753-5f78-434c-819a-31f80732f451",
   "metadata": {},
   "outputs": [],
   "source": [
    "df['Age'].plot(kind='box')"
   ]
  },
  {
   "cell_type": "code",
   "execution_count": null,
   "id": "62a19edb-4a17-46ee-94ae-f803ee9fdfca",
   "metadata": {},
   "outputs": [],
   "source": [
    "df['Age'].plot(kind='hist',bins=20)"
   ]
  },
  {
   "cell_type": "code",
   "execution_count": null,
   "id": "7adaccfa-877a-48a2-9572-fd2036e9437d",
   "metadata": {},
   "outputs": [],
   "source": [
    "df['Age'].value_counts()\n"
   ]
  },
  {
   "cell_type": "code",
   "execution_count": null,
   "id": "6683d931-c08b-4672-ac40-958922ccaa8b",
   "metadata": {},
   "outputs": [],
   "source": [
    "df['Annual Income'].mean()"
   ]
  },
  {
   "cell_type": "code",
   "execution_count": null,
   "id": "52e149ae-28fd-4bc7-8828-15fc30a2a403",
   "metadata": {},
   "outputs": [],
   "source": [
    "sns.distplot(df['Age'],bins=6)"
   ]
  },
  {
   "cell_type": "markdown",
   "id": "b88f15b7-1773-4c4e-999b-b01f937e000a",
   "metadata": {},
   "source": [
    "# Occupation"
   ]
  },
  {
   "cell_type": "code",
   "execution_count": null,
   "id": "62526395-17bc-4d3c-8342-6b3fa373f6cd",
   "metadata": {},
   "outputs": [],
   "source": [
    "df['Occupation'].value_counts()"
   ]
  },
  {
   "cell_type": "code",
   "execution_count": null,
   "id": "378ef212-bd09-407f-9704-be11c389e0f0",
   "metadata": {},
   "outputs": [],
   "source": [
    "df['Occupation'] = df['Occupation'].replace('Salaried ', 'Salaried')"
   ]
  },
  {
   "cell_type": "code",
   "execution_count": null,
   "id": "133417df-c30a-4795-82c8-10a24c8737d7",
   "metadata": {},
   "outputs": [],
   "source": [
    "df['Occupation'].value_counts()"
   ]
  },
  {
   "cell_type": "code",
   "execution_count": null,
   "id": "5a91630e-6d44-495b-98e9-5e036e1b8fd2",
   "metadata": {},
   "outputs": [],
   "source": [
    "df['Occupation']"
   ]
  },
  {
   "cell_type": "code",
   "execution_count": null,
   "id": "d466a327-1545-493e-a1dd-bc66d72ee34a",
   "metadata": {},
   "outputs": [],
   "source": [
    "# Find rows where 'Occupation' is 'Salaried, Other'\n",
    "rows_with_salaried_other = df[df['Occupation'] == 'Salaried, Other']\n",
    "\n",
    "# Display the result\n",
    "print(rows_with_salaried_other)"
   ]
  },
  {
   "cell_type": "code",
   "execution_count": null,
   "id": "788b1174-f22b-45cd-9494-5f07add9776f",
   "metadata": {},
   "outputs": [],
   "source": [
    "df.head(34)"
   ]
  },
  {
   "cell_type": "code",
   "execution_count": null,
   "id": "612b3061-61a7-4d06-b7a1-6662660ec57a",
   "metadata": {},
   "outputs": [],
   "source": [
    "df['Occupation'] = df['Occupation'].replace('Salaried, Other', 'Other')"
   ]
  },
  {
   "cell_type": "code",
   "execution_count": null,
   "id": "dd8c348c-165c-47b3-9383-2e4a93418149",
   "metadata": {},
   "outputs": [],
   "source": [
    "df"
   ]
  },
  {
   "cell_type": "code",
   "execution_count": null,
   "id": "a80e681f-45b0-4737-9213-4c0eecd1e953",
   "metadata": {},
   "outputs": [],
   "source": [
    "df['Occupation'].value_counts()"
   ]
  },
  {
   "cell_type": "code",
   "execution_count": null,
   "id": "929cdf7b",
   "metadata": {},
   "outputs": [],
   "source": [
    "df['Occupation'] = df['Occupation'].replace('Salaried, Other', 'Other')\n"
   ]
  },
  {
   "cell_type": "code",
   "execution_count": null,
   "id": "2aecb999-8a74-4466-b4e1-3d0206c43019",
   "metadata": {},
   "outputs": [],
   "source": [
    "df['Occupation'].value_counts().plot(kind='bar')"
   ]
  },
  {
   "cell_type": "code",
   "execution_count": null,
   "id": "6ef5a4d4-a4c1-4f89-862e-5995cb94d88a",
   "metadata": {},
   "outputs": [],
   "source": [
    "df['Occupation'].value_counts().plot(kind='pie')"
   ]
  },
  {
   "cell_type": "code",
   "execution_count": null,
   "id": "a40a75c1-518a-4cf2-a475-96a5f10e4fac",
   "metadata": {},
   "outputs": [],
   "source": [
    "df['Occupation'].value_counts().plot(kind='pie',autopct='%.f')"
   ]
  },
  {
   "cell_type": "markdown",
   "id": "e43ae00a-58f5-4744-975a-1215f470d80c",
   "metadata": {},
   "source": [
    "# MaritalStatus"
   ]
  },
  {
   "cell_type": "markdown",
   "id": "737f6dce-2539-4775-a903-200a75d17328",
   "metadata": {},
   "source": [
    "# Gender\t"
   ]
  },
  {
   "cell_type": "code",
   "execution_count": null,
   "id": "a1e12c8c-3275-4d9f-bca4-84179a4bafcc",
   "metadata": {},
   "outputs": [],
   "source": [
    "df['Gender'].value_counts()"
   ]
  },
  {
   "cell_type": "code",
   "execution_count": null,
   "id": "521e658e-a1c9-435a-825b-824eae39586b",
   "metadata": {},
   "outputs": [],
   "source": [
    "df['Gender'] = df['Gender'].replace('Female ', 'Female')"
   ]
  },
  {
   "cell_type": "code",
   "execution_count": null,
   "id": "61bae972-0c0a-4ccb-b08b-fe7dc87759cc",
   "metadata": {},
   "outputs": [],
   "source": [
    "df['Gender'].value_counts()"
   ]
  },
  {
   "cell_type": "code",
   "execution_count": null,
   "id": "45ea80bd-e6b6-455f-8bf2-87a178888c66",
   "metadata": {},
   "outputs": [],
   "source": [
    "df['Gender'].value_counts().plot(kind='bar')"
   ]
  },
  {
   "cell_type": "code",
   "execution_count": null,
   "id": "3f0f44d2-b362-4fd4-a640-b8c34141a7f4",
   "metadata": {},
   "outputs": [],
   "source": [
    "df['Gender'].value_counts().plot(kind='pie',autopct='%.2f')"
   ]
  },
  {
   "cell_type": "code",
   "execution_count": null,
   "id": "07f44343-5e06-4657-bc9e-be85f5652d9b",
   "metadata": {},
   "outputs": [],
   "source": [
    "df"
   ]
  },
  {
   "cell_type": "code",
   "execution_count": null,
   "id": "3f9e5b9d-d375-40ad-805f-9e4d785f2412",
   "metadata": {},
   "outputs": [],
   "source": []
  },
  {
   "cell_type": "markdown",
   "id": "5ea7e49d-0e05-42e0-8ff6-b5c05e745ce2",
   "metadata": {},
   "source": [
    "# Married"
   ]
  },
  {
   "cell_type": "code",
   "execution_count": null,
   "id": "e0427ac4-ad88-42ec-849b-cd65c61fd27b",
   "metadata": {},
   "outputs": [],
   "source": [
    "df['Married'].value_counts()"
   ]
  },
  {
   "cell_type": "code",
   "execution_count": null,
   "id": "8b256a8a-4c14-4e47-9b3a-8c94197cd9d5",
   "metadata": {},
   "outputs": [],
   "source": [
    "df['Married'].value_counts().plot(kind='bar')"
   ]
  },
  {
   "cell_type": "code",
   "execution_count": null,
   "id": "838caf42-0b99-44d4-a3de-3037c6870dbe",
   "metadata": {},
   "outputs": [],
   "source": [
    "df['Married'].value_counts().plot(kind='pie')"
   ]
  },
  {
   "cell_type": "code",
   "execution_count": null,
   "id": "36188487-a52c-43a7-8f6b-6a05c6dcc0ea",
   "metadata": {},
   "outputs": [],
   "source": [
    "df['Married'].value_counts().plot(kind='pie',autopct='%.2f')"
   ]
  },
  {
   "cell_type": "markdown",
   "id": "a00de4b3-67e6-40b6-a5ba-2eeb106ba087",
   "metadata": {},
   "source": [
    "# Education"
   ]
  },
  {
   "cell_type": "code",
   "execution_count": null,
   "id": "527b36b7-4a7b-4e0c-ba1e-bbe31dfb7bc0",
   "metadata": {},
   "outputs": [],
   "source": [
    "df['Education'].value_counts()"
   ]
  },
  {
   "cell_type": "code",
   "execution_count": null,
   "id": "6eeed4d1-75d1-4d8e-ba41-e05fae0e89ea",
   "metadata": {},
   "outputs": [],
   "source": [
    "df['Education'] = df['Education'].replace('Graduate ', 'Graduate')\n",
    "df['Education'] = df['Education'].replace('UnderGraduate', 'Under Graduate')"
   ]
  },
  {
   "cell_type": "code",
   "execution_count": null,
   "id": "64f07210-b727-44d3-971b-e89451d48627",
   "metadata": {},
   "outputs": [],
   "source": [
    "df['Education'].value_counts()\n"
   ]
  },
  {
   "cell_type": "code",
   "execution_count": null,
   "id": "fb54aaab-3748-4e4a-abd3-3c9f10abd327",
   "metadata": {},
   "outputs": [],
   "source": []
  },
  {
   "cell_type": "code",
   "execution_count": null,
   "id": "ed048e49-c70d-4c54-bbc7-43facfbaf591",
   "metadata": {},
   "outputs": [],
   "source": [
    "df['Education'].value_counts().plot(kind='bar')"
   ]
  },
  {
   "cell_type": "code",
   "execution_count": null,
   "id": "bdf33036-a833-4cb7-9f2a-d97b2c2c2f5b",
   "metadata": {},
   "outputs": [],
   "source": [
    "df['Education'].value_counts().plot(kind='pie')"
   ]
  },
  {
   "cell_type": "code",
   "execution_count": null,
   "id": "bb130ac1-368d-489a-b917-31bf0b6bc49b",
   "metadata": {},
   "outputs": [],
   "source": [
    "df['Education'].value_counts().plot(kind='pie',autopct='%.2f')"
   ]
  },
  {
   "cell_type": "markdown",
   "id": "8aa75689-87a4-4d7c-9d73-cb465685a6c0",
   "metadata": {},
   "source": [
    "# Active_loans\t"
   ]
  },
  {
   "cell_type": "code",
   "execution_count": null,
   "id": "aeee440e-6202-48f5-9f4a-7de7ceb8de95",
   "metadata": {},
   "outputs": [],
   "source": [
    "df['Active_loans'].value_counts()"
   ]
  },
  {
   "cell_type": "code",
   "execution_count": null,
   "id": "f86029ed-859a-4f8d-b588-aec829b6dec0",
   "metadata": {},
   "outputs": [],
   "source": []
  },
  {
   "cell_type": "code",
   "execution_count": null,
   "id": "589b520b-99ff-4929-8128-3a31f0d644fa",
   "metadata": {},
   "outputs": [],
   "source": [
    "# Create a box plot\n",
    "plt.figure(figsize=(10, 6))\n",
    "sns.boxplot(x=df['Active_loans'])\n",
    "plt.title('Box plot of Values')\n",
    "plt.show()\n"
   ]
  },
  {
   "cell_type": "code",
   "execution_count": null,
   "id": "66d82afa",
   "metadata": {},
   "outputs": [],
   "source": [
    "df.shape"
   ]
  },
  {
   "cell_type": "code",
   "execution_count": null,
   "id": "f9405774-0923-4748-a4c2-267b9cf50202",
   "metadata": {},
   "outputs": [],
   "source": [
    "# Calculate Q1 (25th percentile) and Q3 (75th percentile)\n",
    "Q1 = df['Active_loans'].quantile(0.25)\n",
    "Q3 = df['Active_loans'].quantile(0.75)\n",
    "\n",
    "# Calculate the IQR (Interquartile Range)\n",
    "IQR = Q3 - Q1\n",
    "\n",
    "# Define the bounds for outliers\n",
    "lower_bound = Q1 - 1.5 * IQR\n",
    "upper_bound = Q3 + 1.5 * IQR\n",
    "\n",
    "# Identify outliers\n",
    "outliers = df[(df['Active_loans'] < lower_bound) | (df['Active_loans'] > upper_bound)]\n",
    "\n",
    "print(\"Outliers:\\n\", outliers)\n"
   ]
  },
  {
   "cell_type": "code",
   "execution_count": null,
   "id": "244671f3-424c-4939-8e76-149cdc9f3736",
   "metadata": {},
   "outputs": [],
   "source": [
    "mode_value = df['Active_loans'].mode()[0]\n"
   ]
  },
  {
   "cell_type": "code",
   "execution_count": null,
   "id": "5a09d818",
   "metadata": {},
   "outputs": [],
   "source": [
    "def replace_outliers(series, lower_bound, upper_bound, mode_value):\n",
    "    return np.where((series < lower_bound) | (series > upper_bound), mode_value, series)\n"
   ]
  },
  {
   "cell_type": "code",
   "execution_count": null,
   "id": "2f88ad45",
   "metadata": {},
   "outputs": [],
   "source": [
    "df['Active_loans'] = replace_outliers(df['Active_loans'], lower_bound, upper_bound, mode_value)"
   ]
  },
  {
   "cell_type": "code",
   "execution_count": null,
   "id": "c00b9ea9-dea2-4fea-941c-d0fa003749ab",
   "metadata": {},
   "outputs": [],
   "source": [
    "# Create a box plot for the cleaned data\n",
    "plt.figure(figsize=(10, 6))\n",
    "sns.boxplot(x=df['Active_loans'])\n",
    "plt.title('Box plot of Values (without outliers)')\n",
    "plt.show()\n"
   ]
  },
  {
   "cell_type": "code",
   "execution_count": null,
   "id": "44563a4e-cfef-4a36-9f2f-c120d308ad02",
   "metadata": {},
   "outputs": [],
   "source": [
    "df['Active_loans'].value_counts().plot(kind='bar')\n"
   ]
  },
  {
   "cell_type": "code",
   "execution_count": null,
   "id": "b1e79538-6071-41ee-b6e5-28046f8c9b58",
   "metadata": {},
   "outputs": [],
   "source": [
    "df['Active_loans'].value_counts().plot(kind='pie',autopct='%.2f')"
   ]
  },
  {
   "cell_type": "markdown",
   "id": "9932da95-09ad-4695-bd99-e7186fe7d5dc",
   "metadata": {},
   "source": [
    "# Bank_Products"
   ]
  },
  {
   "cell_type": "code",
   "execution_count": null,
   "id": "bd0dfc1a-03bb-4b25-82c4-edd9e407f41d",
   "metadata": {},
   "outputs": [],
   "source": [
    "df['Bank_Products'].value_counts()"
   ]
  },
  {
   "cell_type": "code",
   "execution_count": null,
   "id": "eef536a2-b31d-4b05-8b36-60f8cc984a68",
   "metadata": {},
   "outputs": [],
   "source": [
    "# Create a box plot\n",
    "plt.figure(figsize=(10, 6))\n",
    "sns.boxplot(x=df['Bank_Products'])\n",
    "plt.title('Box plot of Bank_Products')\n",
    "plt.show()\n"
   ]
  },
  {
   "cell_type": "code",
   "execution_count": null,
   "id": "6304ca99-78bd-4558-980d-820d34d3599f",
   "metadata": {
    "scrolled": true
   },
   "outputs": [],
   "source": [
    "df['Bank_Products'].value_counts().plot(kind='bar')"
   ]
  },
  {
   "cell_type": "code",
   "execution_count": null,
   "id": "df332e60-6add-4436-96b5-bef2a9d7dc44",
   "metadata": {},
   "outputs": [],
   "source": [
    "df['Bank_Products'].value_counts().plot(kind='pie',autopct='%.2f')"
   ]
  },
  {
   "cell_type": "markdown",
   "id": "1faeff5d-1a01-4fbf-bd63-73448016f5dd",
   "metadata": {},
   "source": [
    "# Dependents"
   ]
  },
  {
   "cell_type": "code",
   "execution_count": null,
   "id": "ccf15709-97b0-4de7-bf97-b44199a43677",
   "metadata": {},
   "outputs": [],
   "source": [
    "df['Dependents'].value_counts()"
   ]
  },
  {
   "cell_type": "code",
   "execution_count": null,
   "id": "0dc21a92-d09f-4696-a6ef-47773a3ab815",
   "metadata": {},
   "outputs": [],
   "source": [
    "# Create a box plot\n",
    "plt.figure(figsize=(10, 6))\n",
    "sns.boxplot(x=df['Dependents'])\n",
    "plt.title('Box plot of Dependents')\n",
    "plt.show()\n"
   ]
  },
  {
   "cell_type": "code",
   "execution_count": null,
   "id": "2b58a2cf-bc81-49bc-bbf3-425ed9a09796",
   "metadata": {},
   "outputs": [],
   "source": [
    "df['Dependents'].value_counts().plot(kind='bar')"
   ]
  },
  {
   "cell_type": "code",
   "execution_count": null,
   "id": "ffcff8e6-1490-48da-a22b-c5098579082d",
   "metadata": {},
   "outputs": [],
   "source": [
    "df['Dependents'].value_counts().plot(kind='pie',autopct='%.2f')"
   ]
  },
  {
   "cell_type": "markdown",
   "id": "3f6a436c-1e8c-46bd-98ba-efe396c2280a",
   "metadata": {},
   "source": [
    "# Fixed Deposit\t"
   ]
  },
  {
   "cell_type": "code",
   "execution_count": null,
   "id": "b64d173b-959e-43b3-9168-cabf31b217ca",
   "metadata": {},
   "outputs": [],
   "source": [
    "df['Fixed Deposit'].value_counts()"
   ]
  },
  {
   "cell_type": "code",
   "execution_count": null,
   "id": "0a5bd80c-73cd-4768-9f13-c05f9749b27a",
   "metadata": {},
   "outputs": [],
   "source": [
    "df['Fixed Deposit'] = df['Fixed Deposit'].replace('Yes, No', 'Yes')"
   ]
  },
  {
   "cell_type": "code",
   "execution_count": null,
   "id": "0aea607d-36d5-46ab-84e8-8498d364ee81",
   "metadata": {},
   "outputs": [],
   "source": [
    "df['Fixed Deposit'].value_counts()"
   ]
  },
  {
   "cell_type": "code",
   "execution_count": null,
   "id": "d872b6a1-7428-4b38-ba46-5f86606ae1d7",
   "metadata": {},
   "outputs": [],
   "source": [
    "df['Fixed Deposit'].value_counts().plot(kind='bar')"
   ]
  },
  {
   "cell_type": "code",
   "execution_count": null,
   "id": "9d2d7248-5831-48ef-ab8f-c00511a8ea5d",
   "metadata": {},
   "outputs": [],
   "source": [
    "df['Fixed Deposit'].value_counts().plot(kind='pie',autopct='%.2f')"
   ]
  },
  {
   "cell_type": "code",
   "execution_count": null,
   "id": "2bb009ca-5e30-453c-aecf-758a44e1d438",
   "metadata": {},
   "outputs": [],
   "source": [
    "df"
   ]
  },
  {
   "cell_type": "markdown",
   "id": "ac4bc21b-abd9-408b-a233-6758ea441a89",
   "metadata": {},
   "source": [
    "# credit_score"
   ]
  },
  {
   "cell_type": "code",
   "execution_count": null,
   "id": "c9ac0187-dfa7-4496-b1ee-ba788cfa1b99",
   "metadata": {},
   "outputs": [],
   "source": [
    "df['credit_score'].value_counts()"
   ]
  },
  {
   "cell_type": "code",
   "execution_count": null,
   "id": "0adc6398-648c-4355-9679-18c25e894fef",
   "metadata": {},
   "outputs": [],
   "source": [
    "# Create a box plot\n",
    "plt.figure(figsize=(10, 6))\n",
    "sns.boxplot(x=df['credit_score'])\n",
    "plt.title('Box plot of Values')\n",
    "plt.show()\n"
   ]
  },
  {
   "cell_type": "code",
   "execution_count": null,
   "id": "59585758-a5e9-45f1-adaf-57ab62fd073f",
   "metadata": {},
   "outputs": [],
   "source": [
    "df['credit_score'].describe()"
   ]
  },
  {
   "cell_type": "code",
   "execution_count": null,
   "id": "341753c4-a201-4f18-9547-1097300bcd0a",
   "metadata": {},
   "outputs": [],
   "source": [
    "\n",
    "\n"
   ]
  },
  {
   "cell_type": "code",
   "execution_count": null,
   "id": "aa88a4d8-6c03-4a5f-bee0-2000f6b0084f",
   "metadata": {},
   "outputs": [],
   "source": []
  },
  {
   "cell_type": "code",
   "execution_count": null,
   "id": "069d3a0d-eac7-4952-94ac-097b6782e3a4",
   "metadata": {},
   "outputs": [],
   "source": []
  },
  {
   "cell_type": "code",
   "execution_count": null,
   "id": "54d53ecb",
   "metadata": {},
   "outputs": [],
   "source": [
    "mean_value = df[(df['credit_score'] >= 300) & (df['credit_score'] <= 850)]['credit_score'].mean()\n"
   ]
  },
  {
   "cell_type": "code",
   "execution_count": null,
   "id": "4d521b28",
   "metadata": {},
   "outputs": [],
   "source": [
    "outliers = df[(df['credit_score'] < 300) | (df['credit_score'] > 850)]\n",
    "print(\"Outliers:\\n\", outliers)\n"
   ]
  },
  {
   "cell_type": "code",
   "execution_count": null,
   "id": "3aa1cb7a",
   "metadata": {},
   "outputs": [],
   "source": [
    "df['credit_score'] = np.where((df['credit_score'] < 300) | (df['credit_score'] > 850), mean_value, df['credit_score'])"
   ]
  },
  {
   "cell_type": "code",
   "execution_count": null,
   "id": "14195b9f-6b0a-4d32-96e6-4e9b5c8324cf",
   "metadata": {},
   "outputs": [],
   "source": [
    "df['credit_score'].value_counts()\n"
   ]
  },
  {
   "cell_type": "code",
   "execution_count": null,
   "id": "45d00933-af06-4625-81b3-d34e51bef8b8",
   "metadata": {},
   "outputs": [],
   "source": [
    "plt.figure(figsize=(10, 6))\n",
    "sns.boxplot(x=df['credit_score'])\n",
    "plt.title('Box plot of Credit Score (without outliers)')\n",
    "plt.show()"
   ]
  },
  {
   "cell_type": "code",
   "execution_count": null,
   "id": "a803e149-f509-4328-ace1-bace6bcdd6de",
   "metadata": {},
   "outputs": [],
   "source": [
    "df['credit_score'].describe()\n"
   ]
  },
  {
   "cell_type": "code",
   "execution_count": null,
   "id": "e5db73db-39cb-4738-9f61-ee03ebf6eb23",
   "metadata": {},
   "outputs": [],
   "source": [
    "df.shape"
   ]
  },
  {
   "cell_type": "markdown",
   "id": "7df6608d-7380-4324-bb6c-114c8a512dfc",
   "metadata": {},
   "source": [
    "# Annual Income\t"
   ]
  },
  {
   "cell_type": "code",
   "execution_count": null,
   "id": "ef930add-ef1c-43e6-a2a0-7cf6c4c9673a",
   "metadata": {},
   "outputs": [],
   "source": [
    "# Create a scatter plot\n",
    "plt.figure(figsize=(10, 6))\n",
    "plt.ticklabel_format(style='plain')\n",
    "plt.xticks(rotation=45)\n",
    "plt.scatter(df.index, df['Annual Income'], color='blue', alpha=0.7)\n",
    "plt.title('Scatter plot of Annual Income')\n",
    "plt.xlabel('Index')\n",
    "plt.ylabel('Annual Income')\n",
    "plt.grid(True)\n",
    "plt.show()"
   ]
  },
  {
   "cell_type": "code",
   "execution_count": null,
   "id": "74fa8fec-54da-4e7b-918e-e614d6080dac",
   "metadata": {},
   "outputs": [],
   "source": [
    "plt.hist(df['Annual Income'],bins = 7)\n",
    "plt.ticklabel_format(style='plain')\n",
    "plt.xticks(rotation=45)"
   ]
  },
  {
   "cell_type": "code",
   "execution_count": null,
   "id": "aa67d638-7c58-4d3b-b86a-8cdee12e3d21",
   "metadata": {},
   "outputs": [],
   "source": [
    "\n",
    "# Define bins for the histogram\n",
    "bins = [200000, 400000, 600000, 800000, 1000000, 1200000, 1400000, 1600000, 1800000, 2000000]\n",
    "\n",
    "# Create the histogram with hue\n",
    "plt.figure(figsize=(12, 8))\n",
    "sns.histplot(df, x='Annual Income', hue='Gender', bins=bins, multiple='stack', edgecolor='black')\n",
    "\n",
    "# Customize the x-axis labels\n",
    "plt.ticklabel_format(style='plain')\n",
    "plt.xticks(bins, [f'{x:,}' for x in bins], rotation=45)\n",
    "\n",
    "# Add titles and labels\n",
    "plt.title('Histogram of Annual Income by Gender')\n",
    "plt.xlabel('Annual Income')\n",
    "plt.ylabel('Frequency')\n",
    "\n",
    "# Show the plot\n",
    "plt.grid(True)\n",
    "plt.show()"
   ]
  },
  {
   "cell_type": "code",
   "execution_count": null,
   "id": "fe1afaa5-a340-410e-8bf6-b55dfcabea7f",
   "metadata": {},
   "outputs": [],
   "source": [
    "\n",
    "# Define bins for the histogram\n",
    "bins = [200000, 400000, 600000, 800000, 1000000, 1200000, 1400000, 1600000, 1800000, 2000000]\n",
    "\n",
    "# Create the histogram with hue using displot\n",
    "g = sns.displot(df, x='Annual Income', hue='Gender', bins=bins, kind='hist', multiple='stack', edgecolor='black',kde=True)\n",
    "\n",
    "# Customize the x-axis labels\n",
    "g.set_axis_labels('Annual Income', 'Frequency')\n",
    "g.set_titles('Histogram of Annual Income by Gender')\n",
    "g.set_xticklabels([f'{x:,}' for x in bins], rotation=45)\n",
    "\n",
    "# Show the plot\n",
    "plt.grid(True)\n",
    "plt.show()"
   ]
  },
  {
   "cell_type": "markdown",
   "id": "925edd76-29c0-4885-84b2-44ff434dacfd",
   "metadata": {},
   "source": [
    "# AccountBalance"
   ]
  },
  {
   "cell_type": "code",
   "execution_count": null,
   "id": "afbef934-7bfe-4cae-9fbe-1511b957cca5",
   "metadata": {},
   "outputs": [],
   "source": [
    "# Create a scatter plot\n",
    "plt.figure(figsize=(10, 6))\n",
    "plt.ticklabel_format(style='plain')\n",
    "plt.xticks(rotation=45)\n",
    "plt.scatter(df.index, df['AccountBalance'], color='blue', alpha=0.7)\n",
    "plt.title('Scatter plot of AccountBalance')\n",
    "plt.xlabel('Index')\n",
    "plt.ylabel('AccountBalance')\n",
    "plt.grid(True)\n",
    "plt.show()"
   ]
  },
  {
   "cell_type": "code",
   "execution_count": null,
   "id": "872ccf04-70a1-4fa0-8702-101acae89fb6",
   "metadata": {},
   "outputs": [],
   "source": [
    "plt.hist(df['AccountBalance'],bins = 7)\n",
    "plt.ticklabel_format(style='plain')\n",
    "plt.xticks(rotation=45)"
   ]
  },
  {
   "cell_type": "code",
   "execution_count": null,
   "id": "803bf889-d499-47ee-86ae-a539de766bb9",
   "metadata": {},
   "outputs": [],
   "source": [
    "\n",
    "# Define bins for the histogram\n",
    "bins = [100000, 200000, 300000, 400000, 500000, 600000, 700000, 800000, 900000, 1000000]\n",
    "\n",
    "# Create the histogram with hue\n",
    "plt.figure(figsize=(12, 8))\n",
    "sns.histplot(df, x='AccountBalance', hue='Gender', bins=bins, multiple='stack', edgecolor='black')\n",
    "\n",
    "# Customize the x-axis labels\n",
    "plt.ticklabel_format(style='plain')\n",
    "plt.xticks(bins, [f'{x:,}' for x in bins], rotation=45)\n",
    "\n",
    "# Add titles and labels\n",
    "plt.title('Histogram of AccountBalance by Gender')\n",
    "plt.xlabel('AccountBalance')\n",
    "plt.ylabel('Frequency')\n",
    "\n",
    "# Show the plot\n",
    "plt.grid(True)\n",
    "plt.show()"
   ]
  },
  {
   "cell_type": "markdown",
   "id": "6dc12e12-cf0a-4f8a-b595-f03e456105bd",
   "metadata": {},
   "source": [
    "# Networth"
   ]
  },
  {
   "cell_type": "code",
   "execution_count": null,
   "id": "5b688521-f86f-4de6-bd00-879ec7c9d9ab",
   "metadata": {},
   "outputs": [],
   "source": [
    "# Create a scatter plot\n",
    "plt.figure(figsize=(10, 6))\n",
    "plt.ticklabel_format(style='plain')\n",
    "plt.xticks(rotation=45)\n",
    "plt.scatter(df.index, df['Networth'], color='blue', alpha=0.7)\n",
    "plt.title('Scatter plot of Networth')\n",
    "plt.xlabel('Index')\n",
    "plt.ylabel('Networth')\n",
    "plt.grid(True)\n",
    "plt.show()"
   ]
  },
  {
   "cell_type": "code",
   "execution_count": null,
   "id": "59cbb8a9-c510-40da-80e1-775c6892dbe3",
   "metadata": {},
   "outputs": [],
   "source": [
    "# Create a scatter plot\n",
    "plt.figure(figsize=(10, 6))\n",
    "plt.ticklabel_format(style='plain')\n",
    "plt.xticks(rotation=45)\n",
    "plt.scatter(df.index, df['Networth'], color='blue', alpha=0.7)\n",
    "plt.title('Scatter plot of Networth')\n",
    "plt.xlabel('Index')\n",
    "plt.ylabel('Networth')\n",
    "plt.grid(True)\n",
    "\n",
    "plt.ylim(1000000, 10000000)\n",
    "plt.yticks(range(1000000, 10000001, 1000000))\n",
    "\n",
    "plt.show()"
   ]
  },
  {
   "cell_type": "code",
   "execution_count": null,
   "id": "f10c1bbb-07f1-4c33-97c6-847c923b6b08",
   "metadata": {},
   "outputs": [],
   "source": [
    "plt.hist(df['Networth'],bins = 7)\n",
    "plt.ticklabel_format(style='plain')\n",
    "plt.xticks(rotation=45)"
   ]
  },
  {
   "cell_type": "markdown",
   "id": "9a1b8499-e3e0-4a77-a2f2-b3ce5ab6043c",
   "metadata": {},
   "source": [
    "# Bivariate Analysis"
   ]
  },
  {
   "cell_type": "code",
   "execution_count": null,
   "id": "48a62add-eef3-4189-ad22-1b1ba9146ce6",
   "metadata": {},
   "outputs": [],
   "source": [
    "df"
   ]
  },
  {
   "cell_type": "markdown",
   "id": "c84785ad-1de5-40e5-bec5-036bf4158f04",
   "metadata": {},
   "source": [
    "# Age vs Annual Income"
   ]
  },
  {
   "cell_type": "code",
   "execution_count": null,
   "id": "9daeedc6-f271-4cbf-8fa0-8e0360c4b1bb",
   "metadata": {},
   "outputs": [],
   "source": [
    "plt.ticklabel_format(style='plain')\n",
    "plt.xticks(rotation=45)\n",
    "sns.scatterplot(x='Annual Income',y='Age',data=df)"
   ]
  },
  {
   "cell_type": "code",
   "execution_count": null,
   "id": "7ccfc270-c521-4f94-8c8e-769a87417950",
   "metadata": {},
   "outputs": [],
   "source": [
    "plt.ticklabel_format(style='plain')\n",
    "plt.xticks(rotation=45)\n",
    "sns.lineplot(x='Annual Income',y='Age',data=df)"
   ]
  },
  {
   "cell_type": "code",
   "execution_count": null,
   "id": "f6cf0f96-88b5-4a7e-9f94-041d64225315",
   "metadata": {},
   "outputs": [],
   "source": [
    "sns.scatterplot(x='Annual Income',y='Age',data=df,hue=df['Gender'])\n",
    "plt.ticklabel_format(style='plain')\n",
    "plt.xticks(rotation=45)"
   ]
  },
  {
   "cell_type": "code",
   "execution_count": null,
   "id": "ab34c4be-734c-4fc0-869e-40d11e5cc80d",
   "metadata": {},
   "outputs": [],
   "source": [
    "plt.figure(figsize=(22, 6))\n",
    "plt.ticklabel_format(style='plain')\n",
    "plt.xticks(rotation=45)\n",
    "sns.scatterplot(x='Annual Income',y='Age',data=df,hue=df['Gender'])"
   ]
  },
  {
   "cell_type": "code",
   "execution_count": null,
   "id": "7f1241e1-2412-4ac0-8c61-35043ebf360f",
   "metadata": {},
   "outputs": [],
   "source": []
  },
  {
   "cell_type": "code",
   "execution_count": null,
   "id": "742f1d15-2e6f-46c0-a0b5-2741ffcb8bb2",
   "metadata": {},
   "outputs": [],
   "source": [
    "plt.figure(figsize=(22, 6))\n",
    "plt.ticklabel_format(style='plain')\n",
    "plt.xticks(rotation=45)\n",
    "sns.scatterplot(x='AccountBalance',y='Age',data=df)"
   ]
  },
  {
   "cell_type": "code",
   "execution_count": null,
   "id": "99cb5124-aa6a-4fcc-a838-32096c31ea62",
   "metadata": {},
   "outputs": [],
   "source": [
    "plt.ticklabel_format(style='plain')\n",
    "plt.xticks(rotation=45)\n",
    "\n",
    "sns.lineplot(x='AccountBalance',y='Age',data=df)"
   ]
  },
  {
   "cell_type": "code",
   "execution_count": null,
   "id": "0bc919d7-1b11-4573-b7ef-68ecae514416",
   "metadata": {},
   "outputs": [],
   "source": [
    "df"
   ]
  },
  {
   "cell_type": "markdown",
   "id": "ba72d9da-c10f-4646-8b43-dcc771eecf0b",
   "metadata": {},
   "source": [
    "# Annual Income\t vs credit_score"
   ]
  },
  {
   "cell_type": "code",
   "execution_count": null,
   "id": "63e6c6db-3127-45a5-9abc-605a5b304296",
   "metadata": {},
   "outputs": [],
   "source": [
    "plt.figure(figsize=(22, 6))\n",
    "plt.ticklabel_format(style='plain')\n",
    "plt.xticks(rotation=45)\n",
    "sns.scatterplot(x='Annual Income',y='credit_score',data=df)\n",
    "plt.ylim(0, 1100)"
   ]
  },
  {
   "cell_type": "code",
   "execution_count": null,
   "id": "a137780a-11a3-4076-b01f-64a846e928ed",
   "metadata": {},
   "outputs": [],
   "source": [
    "plt.figure(figsize=(22, 6))\n",
    "plt.ticklabel_format(style='plain')\n",
    "plt.xticks(rotation=45)\n",
    "sns.scatterplot(x='Annual Income',y='credit_score',data=df)\n",
    "plt.ylim(250, 900)"
   ]
  },
  {
   "cell_type": "code",
   "execution_count": null,
   "id": "de96c202-c8cf-4f21-86cf-0a0df8f4672b",
   "metadata": {},
   "outputs": [],
   "source": [
    "df['credit_score'].describe()"
   ]
  },
  {
   "cell_type": "markdown",
   "id": "a9b54cd5-cb38-4e77-8a19-7900f0324d18",
   "metadata": {},
   "source": [
    "# credit_score vs LastMonthTrans"
   ]
  },
  {
   "cell_type": "code",
   "execution_count": null,
   "id": "0d6c6c49-8de6-4060-b9a8-b519d98a65ae",
   "metadata": {},
   "outputs": [],
   "source": [
    "sns.scatterplot(x='LastMonthTrans',y='credit_score',data=df)\n",
    "# Set the maximum value for both axes to 1000\n",
    "#plt.xlim(0, 1000)\n",
    "plt.ylim(0, 1100)"
   ]
  },
  {
   "cell_type": "code",
   "execution_count": null,
   "id": "743fc114-661f-40b1-bc2e-236be53d4bf1",
   "metadata": {},
   "outputs": [],
   "source": [
    "sns.lineplot(x='LastMonthTrans',y='credit_score',data=df)\n",
    "plt.ylim(0,1200)"
   ]
  },
  {
   "cell_type": "code",
   "execution_count": null,
   "id": "d7ab9d5f-271b-408d-b1fc-95e8b35ae0a0",
   "metadata": {},
   "outputs": [],
   "source": []
  },
  {
   "cell_type": "code",
   "execution_count": null,
   "id": "98e6c38b",
   "metadata": {},
   "outputs": [],
   "source": [
    "sns.scatterplot(x='Annual Income', y='AccountBalance', data=df)\n",
    "\n",
    "# Set the axis ranges\n",
    "plt.xlim(200000, 2000000)\n",
    "plt.ylim(100000, 1000000)\n",
    "\n",
    "# Set tick marks for better readability\n",
    "plt.xticks(range(0, 2000001, 200000))\n",
    "plt.yticks(range(0, 1000001, 100000))\n",
    "\n",
    "\n",
    "\n",
    "\n",
    "plt.ticklabel_format(style='plain')\n",
    "plt.xticks(rotation=45) \n",
    "plt.title('Annual Income vs. AccountBalance')\n",
    "plt.xlabel('Income')\n",
    "plt.ylabel('AccountBalance')\n",
    "plt.show()"
   ]
  },
  {
   "cell_type": "code",
   "execution_count": null,
   "id": "9e0ebbc8-6132-4c53-9de1-006afdade8ce",
   "metadata": {},
   "outputs": [],
   "source": []
  },
  {
   "cell_type": "code",
   "execution_count": null,
   "id": "92573613-7866-4924-9db7-bbe84c048732",
   "metadata": {},
   "outputs": [],
   "source": [
    "df"
   ]
  },
  {
   "cell_type": "code",
   "execution_count": null,
   "id": "8492198b-d43e-417e-8361-5c3af38f7d68",
   "metadata": {
    "scrolled": true
   },
   "outputs": [],
   "source": [
    "plt.figure(figsize=(22, 6))\n",
    "plt.ticklabel_format(style='plain')\n",
    "plt.xticks(rotation=45)\n",
    "sns.scatterplot(x='AccountBalance',y='Networth',data=df)"
   ]
  },
  {
   "cell_type": "code",
   "execution_count": null,
   "id": "525f8a8f-16ee-4bc8-ad99-b984bfb1f8bf",
   "metadata": {},
   "outputs": [],
   "source": [
    "plt.figure(figsize=(22, 6))\n",
    "plt.ticklabel_format(style='plain')\n",
    "plt.xticks(rotation=45)\n",
    "sns.lineplot(x='AccountBalance',y='Networth',data=df)"
   ]
  },
  {
   "cell_type": "code",
   "execution_count": null,
   "id": "f2850bee-5ce7-4c5c-83a7-11a69c431171",
   "metadata": {},
   "outputs": [],
   "source": [
    "plt.figure(figsize=(22, 6))\n",
    "plt.ticklabel_format(style='plain')\n",
    "plt.xticks(rotation=45)\n",
    "sns.scatterplot(x='Age',y='Networth',data=df)"
   ]
  },
  {
   "cell_type": "code",
   "execution_count": null,
   "id": "122b3444-211b-4835-9934-677f99a39604",
   "metadata": {},
   "outputs": [],
   "source": [
    "plt.figure(figsize=(22, 6))\n",
    "plt.ticklabel_format(style='plain')\n",
    "plt.xticks(rotation=45)\n",
    "sns.lineplot(x='Age',y='Networth',data=df)"
   ]
  },
  {
   "cell_type": "markdown",
   "id": "204ee18a-6631-4b33-9b3b-16d04037e8ab",
   "metadata": {},
   "source": [
    "# Married vs Networth"
   ]
  },
  {
   "cell_type": "code",
   "execution_count": null,
   "id": "24cb0ac0-a757-41d2-ac4e-15b305c41b9e",
   "metadata": {},
   "outputs": [],
   "source": [
    "df['Married'].value_counts()"
   ]
  },
  {
   "cell_type": "code",
   "execution_count": null,
   "id": "0461baf1-2ba7-4cb3-9677-f410cf587a45",
   "metadata": {},
   "outputs": [],
   "source": [
    "#plt.figure(figsize=(22, 6))\n",
    "plt.ticklabel_format(style='plain')\n",
    "plt.xticks(rotation=45)\n",
    "# sns.lineplot(x='Age',y='Networth',data=df)\n",
    "\n",
    "sns.barplot(x='Married',y='Networth',data=df)"
   ]
  },
  {
   "cell_type": "markdown",
   "id": "4ae41525-41bc-4420-934a-6f65b38cb980",
   "metadata": {},
   "source": [
    "# Gender vs Networth"
   ]
  },
  {
   "cell_type": "code",
   "execution_count": null,
   "id": "bf068666-597a-4088-ac98-fca901436fa6",
   "metadata": {},
   "outputs": [],
   "source": [
    "#plt.figure(figsize=(22, 6))\n",
    "plt.ticklabel_format(style='plain')\n",
    "plt.xticks(rotation=45)\n",
    "# sns.lineplot(x='Age',y='Networth',data=df)\n",
    "\n",
    "sns.barplot(x='Gender',y='Networth',data=df)"
   ]
  },
  {
   "cell_type": "code",
   "execution_count": null,
   "id": "4473b027-4f3d-483a-80d7-1eb09b1459f6",
   "metadata": {},
   "outputs": [],
   "source": [
    "sns.distplot(df[df['Gender']=='Male']['Networth'],hist=False)\n",
    "sns.distplot(df[df['Gender']=='Female']['Networth'],hist=False)"
   ]
  },
  {
   "cell_type": "code",
   "execution_count": null,
   "id": "63e7b8dc-e12a-48fd-853d-8120e7735dae",
   "metadata": {},
   "outputs": [],
   "source": [
    "df"
   ]
  },
  {
   "cell_type": "markdown",
   "id": "0a51dce0-2bb4-428d-abec-8d6cc54b1bed",
   "metadata": {},
   "source": [
    "# Active_loans vs Networth"
   ]
  },
  {
   "cell_type": "code",
   "execution_count": null,
   "id": "66bbd47e-02c1-4bac-91f5-1cbedd0d1b62",
   "metadata": {},
   "outputs": [],
   "source": [
    "#plt.figure(figsize=(22, 6))\n",
    "#plt.ticklabel_format(style='plain')\n",
    "#plt.xticks(rotation=45)\n",
    "# sns.lineplot(x='Age',y='Networth',data=df)\n",
    "sns.distplot(df[df['Gender']=='Male']['Networth'],hist=False)\n",
    "sns.distplot(df[df['Gender']=='Female']['Networth'],hist=False)"
   ]
  },
  {
   "cell_type": "code",
   "execution_count": null,
   "id": "23cd587e-c457-4d88-b849-dbcf1d9a73d6",
   "metadata": {},
   "outputs": [],
   "source": [
    "import seaborn as sns\n",
    "import matplotlib.pyplot as plt\n",
    "\n",
    "# Set figure size\n",
    "plt.figure(figsize=(22, 6))\n",
    "\n",
    "# Remove scientific notation for tick labels\n",
    "plt.ticklabel_format(style='plain')\n",
    "\n",
    "# Rotate x-axis labels\n",
    "plt.xticks(rotation=45)\n",
    "\n",
    "# Create distribution plots with specified colors\n",
    "sns.distplot(df[df['Gender']=='Male']['Networth'], hist=False, color='blue', label='Male')\n",
    "sns.distplot(df[df['Gender']=='Female']['Networth'], hist=False, color='red', label='Female')\n",
    "\n",
    "# Add legend\n",
    "plt.legend()\n",
    "\n",
    "# Add labels and title\n",
    "plt.xlabel('Net Worth')\n",
    "plt.ylabel('Density')\n",
    "plt.title('Distribution of Net Worth by Gender')\n",
    "\n",
    "# Display the plot\n",
    "plt.show()\n"
   ]
  },
  {
   "cell_type": "code",
   "execution_count": null,
   "id": "85ac88c9-344b-4a58-bb2e-69b13a88a00c",
   "metadata": {},
   "outputs": [],
   "source": [
    "#plt.figure(figsize=(22, 6))\n",
    "plt.ticklabel_format(style='plain')\n",
    "plt.xticks(rotation=45)\n",
    "# sns.lineplot(x='Age',y='Networth',data=df)\n",
    "\n",
    "sns.barplot(x='Active_loans',y='Networth',data=df)"
   ]
  },
  {
   "cell_type": "markdown",
   "id": "ccf9bea6-450d-409b-84d5-1956c98bee30",
   "metadata": {},
   "source": [
    "# Active Loans vs Credit score"
   ]
  },
  {
   "cell_type": "code",
   "execution_count": null,
   "id": "cca0927f-e37b-44e6-9fe8-b554de1a7fb9",
   "metadata": {},
   "outputs": [],
   "source": [
    "#plt.figure(figsize=(22, 6))\n",
    "plt.ticklabel_format(style='plain')\n",
    "plt.xticks(rotation=45)\n",
    "# sns.lineplot(x='Age',y='Networth',data=df)\n",
    "\n",
    "sns.barplot(x='Active_loans',y='credit_score',data=df)"
   ]
  },
  {
   "cell_type": "markdown",
   "id": "6524c4b6-9127-464b-873c-5e162378e7ea",
   "metadata": {},
   "source": [
    "# Active Loans vs LastMonthTrans"
   ]
  },
  {
   "cell_type": "code",
   "execution_count": null,
   "id": "c527b603-e47d-4df2-925c-b3f8c838d0f0",
   "metadata": {},
   "outputs": [],
   "source": [
    "#plt.figure(figsize=(22, 6))\n",
    "plt.ticklabel_format(style='plain')\n",
    "plt.xticks(rotation=45)\n",
    "# sns.lineplot(x='Age',y='Networth',data=df)\n",
    "\n",
    "sns.barplot(x='Active_loans',y='LastMonthTrans',data=df)"
   ]
  },
  {
   "cell_type": "markdown",
   "id": "af8a7f37-eae6-4f24-bc20-dbfdc251016a",
   "metadata": {},
   "source": [
    "# Bank Products vs Annual Income"
   ]
  },
  {
   "cell_type": "code",
   "execution_count": null,
   "id": "6dc74a0d-61cc-4f80-a1fb-7f545eb30340",
   "metadata": {},
   "outputs": [],
   "source": [
    "df['Bank_Products'].value_counts()"
   ]
  },
  {
   "cell_type": "code",
   "execution_count": null,
   "id": "02603a02-5f9c-411b-9d8f-33286274d73a",
   "metadata": {},
   "outputs": [],
   "source": [
    "df1 = df.select_dtypes(include=['int64', 'float64'])\n",
    "\n",
    "\n",
    "corr_matrix = df1.corr()\n",
    "plt.figure(figsize=(16, 12))\n",
    "# Plotting the heatmap\n",
    "sns.heatmap(corr_matrix, annot=True, cmap='plasma', center=0)\n",
    "plt.title('Correlation Matrix')\n",
    "plt.show()"
   ]
  },
  {
   "cell_type": "code",
   "execution_count": null,
   "id": "fb09e331-58f2-4c41-9248-59fe7db26af3",
   "metadata": {},
   "outputs": [],
   "source": [
    "import seaborn as sns\n",
    "import matplotlib.pyplot as plt\n",
    "\n",
    "# Select only numerical columns\n",
    "df1 = df.select_dtypes(include=['int64', 'float64'])\n",
    "\n",
    "# Optionally handle missing values, e.g., fill with the mean or drop rows/columns with missing values\n",
    "df1 = df1.fillna(df1.mean())  # or df1.dropna() if you prefer to drop rows/columns with missing values\n",
    "\n",
    "# Calculate the correlation matrix\n",
    "corr_matrix = df1.corr()\n",
    "\n",
    "# Plotting the heatmap\n",
    "plt.figure(figsize=(16, 12))\n",
    "sns.heatmap(corr_matrix, annot=True, cmap='plasma', center=0)\n",
    "plt.title('Correlation Matrix')\n",
    "plt.show()\n"
   ]
  },
  {
   "cell_type": "code",
   "execution_count": null,
   "id": "53d33832-29d9-4661-a574-3b9063a5ce7f",
   "metadata": {},
   "outputs": [],
   "source": [
    "import seaborn as sns\n",
    "import matplotlib.pyplot as plt\n",
    "\n",
    "# Select only numerical columns\n",
    "df1 = df.select_dtypes(include=['int64', 'float64'])\n",
    "\n",
    "# Inspect the data types and summary statistics\n",
    "print(df1.dtypes)\n",
    "print(df1.describe())\n",
    "\n",
    "# Optionally handle missing values\n",
    "df1 = df1.fillna(df1.mean())\n",
    "\n",
    "# Check for constant columns (if any)\n",
    "print(df1.std())\n",
    "\n",
    "# Calculate the correlation matrix\n",
    "corr_matrix = df1.corr()\n",
    "print(corr_matrix)\n",
    "\n",
    "# Plotting the heatmap\n",
    "plt.figure(figsize=(16, 12))\n",
    "sns.heatmap(corr_matrix, annot=True, cmap='plasma', center=0)\n",
    "plt.title('Correlation Matrix')\n",
    "plt.show()\n"
   ]
  },
  {
   "cell_type": "markdown",
   "id": "73afd355",
   "metadata": {},
   "source": [
    "# Encoding"
   ]
  },
  {
   "cell_type": "code",
   "execution_count": null,
   "id": "215a8bf5",
   "metadata": {},
   "outputs": [],
   "source": [
    "df"
   ]
  },
  {
   "cell_type": "code",
   "execution_count": null,
   "id": "8aa02376",
   "metadata": {},
   "outputs": [],
   "source": [
    "from sklearn.preprocessing import OneHotEncoder"
   ]
  },
  {
   "cell_type": "code",
   "execution_count": null,
   "id": "4a7703a8",
   "metadata": {},
   "outputs": [],
   "source": [
    "columns_to_encode = ['Occupation', 'Gender','Married','House']\n",
    "\n",
    "# Initialize the OneHotEncoder\n",
    "encoder1 = OneHotEncoder(drop='first', sparse_output=False)\n",
    "\n",
    "# Fit and transform the data\n",
    "encoded_array = encoder1.fit_transform(df[columns_to_encode])\n",
    "\n",
    "# Create a DataFrame with the encoded data\n",
    "encoded_df = pd.DataFrame(encoded_array, columns=encoder1.get_feature_names_out(columns_to_encode))\n",
    "\n",
    "# Reset index to ensure proper concatenation\n",
    "df.reset_index(drop=True, inplace=True)\n",
    "encoded_df.reset_index(drop=True, inplace=True)\n",
    "\n",
    "# Concatenate the original DataFrame (excluding the encoded columns) with the encoded DataFrame\n",
    "df_final = pd.concat([df.drop(columns=columns_to_encode), encoded_df], axis=1)\n"
   ]
  },
  {
   "cell_type": "code",
   "execution_count": null,
   "id": "9373f946",
   "metadata": {},
   "outputs": [],
   "source": [
    "df_final"
   ]
  },
  {
   "cell_type": "code",
   "execution_count": null,
   "id": "844968a5",
   "metadata": {},
   "outputs": [],
   "source": [
    "df_final['Fixed Deposit'] = df['Fixed Deposit'].map({'Yes': 1, 'No': 0})\n",
    "df_final['Vehicle'] = df['Vehicle'].map({'yes': 1, 'no': 0})"
   ]
  },
  {
   "cell_type": "code",
   "execution_count": null,
   "id": "fab4aeae",
   "metadata": {},
   "outputs": [],
   "source": [
    "df_final.isnull().sum()"
   ]
  },
  {
   "cell_type": "code",
   "execution_count": null,
   "id": "9debbc80",
   "metadata": {},
   "outputs": [],
   "source": [
    "df_final.dtypes"
   ]
  },
  {
   "cell_type": "code",
   "execution_count": null,
   "id": "79d7178f",
   "metadata": {},
   "outputs": [],
   "source": [
    "from sklearn.preprocessing import OrdinalEncoder"
   ]
  },
  {
   "cell_type": "code",
   "execution_count": null,
   "id": "c070ce68",
   "metadata": {},
   "outputs": [],
   "source": [
    "df_final['Education'].unique()\n"
   ]
  },
  {
   "cell_type": "code",
   "execution_count": null,
   "id": "b34be555",
   "metadata": {},
   "outputs": [],
   "source": [
    "df_final.shape"
   ]
  },
  {
   "cell_type": "code",
   "execution_count": null,
   "id": "ea6d3560",
   "metadata": {},
   "outputs": [],
   "source": [
    "encoder = OrdinalEncoder(categories=[['Under Graduate', 'Graduate', 'Post Graduate']])\n",
    "\n"
   ]
  },
  {
   "cell_type": "code",
   "execution_count": null,
   "id": "e322b969",
   "metadata": {},
   "outputs": [],
   "source": [
    "df_final['education'] = encoder.fit_transform(df_final[['Education']])\n",
    "\n"
   ]
  },
  {
   "cell_type": "code",
   "execution_count": null,
   "id": "f1b2b40a",
   "metadata": {},
   "outputs": [],
   "source": [
    "df_final"
   ]
  },
  {
   "cell_type": "code",
   "execution_count": null,
   "id": "f0bf90c0",
   "metadata": {},
   "outputs": [],
   "source": [
    "df_final=df_final.drop('Education',axis=1)"
   ]
  },
  {
   "cell_type": "code",
   "execution_count": null,
   "id": "78cc46fa",
   "metadata": {},
   "outputs": [],
   "source": [
    "\n",
    "df_final"
   ]
  },
  {
   "cell_type": "code",
   "execution_count": null,
   "id": "32d0a90d",
   "metadata": {},
   "outputs": [],
   "source": [
    "df_final.dtypes"
   ]
  },
  {
   "cell_type": "code",
   "execution_count": null,
   "id": "f274d996",
   "metadata": {},
   "outputs": [],
   "source": [
    "from sklearn.preprocessing import StandardScaler"
   ]
  },
  {
   "cell_type": "code",
   "execution_count": null,
   "id": "75bacd55",
   "metadata": {},
   "outputs": [],
   "source": [
    "scaler = StandardScaler()\n",
    "scaled_data = scaler.fit_transform(df_final)"
   ]
  },
  {
   "cell_type": "code",
   "execution_count": null,
   "id": "23c52f44",
   "metadata": {},
   "outputs": [],
   "source": [
    "from sklearn.decomposition import PCA"
   ]
  },
  {
   "cell_type": "code",
   "execution_count": null,
   "id": "f68b0b88",
   "metadata": {},
   "outputs": [],
   "source": [
    "pca = PCA(n_components=2)  # Number of components you want to keep\n",
    "pca_result = pca.fit_transform(scaled_data)"
   ]
  },
  {
   "cell_type": "code",
   "execution_count": null,
   "id": "abfe394f",
   "metadata": {},
   "outputs": [],
   "source": [
    "pca_df3 = pd.DataFrame(data=pca_result, columns=['PC1', 'PC2'])\n"
   ]
  },
  {
   "cell_type": "code",
   "execution_count": null,
   "id": "3a99095d",
   "metadata": {},
   "outputs": [],
   "source": [
    "pca_df3"
   ]
  },
  {
   "cell_type": "markdown",
   "id": "016fef61",
   "metadata": {},
   "source": [
    "# K-Means"
   ]
  },
  {
   "cell_type": "code",
   "execution_count": null,
   "id": "1fb5181c",
   "metadata": {},
   "outputs": [],
   "source": [
    "from sklearn.cluster import KMeans"
   ]
  },
  {
   "cell_type": "code",
   "execution_count": null,
   "id": "5fa0b530",
   "metadata": {},
   "outputs": [],
   "source": [
    "inertia = []\n",
    "k_values = range(1, 11)  # Test from 1 to 10 clusters\n",
    "\n",
    "for k in k_values:\n",
    "    kmeans = KMeans(n_clusters=k, random_state=0)\n",
    "    kmeans.fit(pca_result)\n",
    "    inertia.append(kmeans.inertia_)"
   ]
  },
  {
   "cell_type": "code",
   "execution_count": null,
   "id": "eb9e237f",
   "metadata": {},
   "outputs": [],
   "source": [
    "inertia"
   ]
  },
  {
   "cell_type": "code",
   "execution_count": null,
   "id": "ed7f8b8a",
   "metadata": {},
   "outputs": [],
   "source": [
    "pca_result"
   ]
  },
  {
   "cell_type": "code",
   "execution_count": null,
   "id": "d953e8e5",
   "metadata": {},
   "outputs": [],
   "source": [
    "plt.figure(figsize=(8, 6))\n",
    "plt.plot(k_values, inertia, marker='o')\n",
    "plt.title('Elbow Method for Optimal k')\n",
    "plt.xlabel('Number of clusters (k)')\n",
    "plt.ylabel('Inertia')\n",
    "plt.show()"
   ]
  },
  {
   "cell_type": "code",
   "execution_count": null,
   "id": "e80b87ae",
   "metadata": {},
   "outputs": [],
   "source": [
    "from sklearn.metrics import silhouette_score\n",
    "k_values = range(2, 11)  # Start from 2 because silhouette score is not defined for 1 cluster\n",
    "\n",
    "# Calculate Silhouette Scores\n",
    "silhouette_scores = []\n",
    "\n",
    "for k in k_values:\n",
    "    kmeans = KMeans(n_clusters=k, random_state=0)\n",
    "    clusters = kmeans.fit_predict(pca_result)\n",
    "    silhouette_avg = silhouette_score(pca_result, clusters)\n",
    "    silhouette_scores.append(silhouette_avg)\n"
   ]
  },
  {
   "cell_type": "code",
   "execution_count": null,
   "id": "818eb3b6",
   "metadata": {},
   "outputs": [],
   "source": [
    "plt.figure(figsize=(8, 6))\n",
    "plt.plot(k_values, silhouette_scores, marker='o')\n",
    "plt.title('Silhouette Score for Different k')\n",
    "plt.xlabel('Number of clusters (k)')\n",
    "plt.ylabel('Silhouette Score')\n",
    "plt.show()\n"
   ]
  },
  {
   "cell_type": "code",
   "execution_count": null,
   "id": "77f09f78",
   "metadata": {},
   "outputs": [],
   "source": [
    "print(\"Silhouette Scores:\\n\", silhouette_scores)"
   ]
  },
  {
   "cell_type": "code",
   "execution_count": null,
   "id": "ac3e06d8",
   "metadata": {},
   "outputs": [],
   "source": [
    "from sklearn.metrics import silhouette_score\n",
    "from kneed import KneeLocator\n"
   ]
  },
  {
   "cell_type": "code",
   "execution_count": null,
   "id": "340f070f",
   "metadata": {},
   "outputs": [],
   "source": [
    "knee = KneeLocator(range(1, 11),inertia, curve='convex', direction='decreasing')\n",
    "optimal_k = knee.elbow"
   ]
  },
  {
   "cell_type": "code",
   "execution_count": null,
   "id": "5052ab05",
   "metadata": {},
   "outputs": [],
   "source": [
    "optimal_k"
   ]
  },
  {
   "cell_type": "code",
   "execution_count": null,
   "id": "5d03ae30",
   "metadata": {},
   "outputs": [],
   "source": [
    "kmeans_pca = KMeans(n_clusters=optimal_k, init='k-means++', random_state=42)\n",
    "pca_df3['Cluster'] = kmeans_pca.fit_predict(pca_df3)"
   ]
  },
  {
   "cell_type": "code",
   "execution_count": null,
   "id": "38c28735",
   "metadata": {
    "scrolled": true
   },
   "outputs": [],
   "source": [
    "plt.figure(figsize=(8, 6))\n",
    "sns.scatterplot(x='PC1', y='PC2', hue='Cluster', data=pca_df3, palette='viridis')\n",
    "plt.title('Customer Clusters in PCA Space')\n",
    "plt.xlabel('Principal Component 1')\n",
    "plt.ylabel('Principal Component 2')\n",
    "plt.show()\n"
   ]
  },
  {
   "cell_type": "code",
   "execution_count": null,
   "id": "3dc7a942",
   "metadata": {},
   "outputs": [],
   "source": [
    "df_final['Cluster']=pca_df3['Cluster']"
   ]
  },
  {
   "cell_type": "code",
   "execution_count": null,
   "id": "6d95e520",
   "metadata": {},
   "outputs": [],
   "source": [
    "\n",
    "\n",
    "\n",
    "cluster_summary = df_final.groupby('Cluster').mean()\n",
    "print(cluster_summary)"
   ]
  },
  {
   "cell_type": "code",
   "execution_count": null,
   "id": "52d5018d",
   "metadata": {},
   "outputs": [],
   "source": [
    "df_reset = df_final.copy()"
   ]
  },
  {
   "cell_type": "code",
   "execution_count": null,
   "id": "e7d92568",
   "metadata": {},
   "outputs": [],
   "source": [
    "df_reset=pd.DataFrame(df_reset)"
   ]
  },
  {
   "cell_type": "code",
   "execution_count": null,
   "id": "1fcf3081",
   "metadata": {},
   "outputs": [],
   "source": [
    "occupation_df = df_reset.melt(id_vars='Cluster', value_vars=['Occupation_Housewife', 'Occupation_Other', 'Occupation_Salaried'], var_name='Occupation', value_name='Percentage')\n",
    "df_reset['Gender_Female'] = 1 - df_reset['Gender_Male']\n",
    "gender_df = df_reset.melt(id_vars='Cluster', value_vars=['Gender_Male','Gender_Female'], var_name='Gender', value_name='Percentage')\n",
    "df_reset['Single'] = 1 - df_reset['Married_yes']\n",
    "married_df = df_reset.melt(id_vars='Cluster', value_vars=['Married_yes','Single'], var_name='Married', value_name='Percentage')\n",
    "\n",
    "\n",
    "education_mapping = {0.0: 'Undergraduate', 1.0: 'Graduate', 2.0: 'Post Graduate'}\n",
    "df_reset['Education_Label'] = df_reset['education'].map(education_mapping)\n",
    "education_df = df_reset.melt(id_vars='Cluster', value_vars=['Education_Label'], var_name='Education', value_name='Count')\n"
   ]
  },
  {
   "cell_type": "code",
   "execution_count": null,
   "id": "825c8294",
   "metadata": {},
   "outputs": [],
   "source": [
    "financial_features = ['Annual Income', 'AccountBalance', 'Networth']\n",
    "\n",
    "plt.figure(figsize=(18, 5))\n",
    "\n",
    "\n",
    "for i, feature in enumerate(financial_features, 1):\n",
    "    plt.subplot(1, 3, i)\n",
    "    plt.ticklabel_format(style='plain')\n",
    "    #plt.xticks(rotation=45)\n",
    "\n",
    "    sns.boxplot(x='Cluster', y=feature, data=df_reset)\n",
    "    plt.title(f'{feature} by Cluster')\n",
    "plt.tight_layout()\n",
    "\n",
    "plt.show()"
   ]
  },
  {
   "cell_type": "code",
   "execution_count": null,
   "id": "f022a776",
   "metadata": {},
   "outputs": [],
   "source": [
    "df_reset['Occupation_Business'] = 1 - df_reset[['Occupation_Housewife', 'Occupation_Other', 'Occupation_Salaried']].sum(axis=1)\n",
    "occupation_df = df_reset[['Cluster', 'Occupation_Housewife', 'Occupation_Other', 'Occupation_Salaried', 'Occupation_Business']]\n",
    "occupation_df = occupation_df.melt(id_vars='Cluster', var_name='Occupation', value_name='Percentage')"
   ]
  },
  {
   "cell_type": "code",
   "execution_count": null,
   "id": "cf6b3eb7",
   "metadata": {
    "scrolled": true
   },
   "outputs": [],
   "source": [
    "plt.figure(figsize=(10, 6))\n",
    "sns.barplot(x='Cluster', y='Percentage', hue='Occupation', data=occupation_df)\n",
    "plt.title('Occupation Distribution by Cluster')\n",
    "plt.ylabel('Percentage')\n",
    "plt.xticks(rotation=45)  \n",
    "plt.show()"
   ]
  },
  {
   "cell_type": "code",
   "execution_count": null,
   "id": "07d997ed",
   "metadata": {},
   "outputs": [],
   "source": [
    "gender_df['Gender'] = gender_df['Gender'].str.replace('Gender_', '')\n",
    "plt.figure(figsize=(8, 6))\n",
    "sns.barplot(x='Cluster', y='Percentage', hue='Gender', data=gender_df)\n",
    "plt.title('Gender Percentage by Cluster')\n",
    "plt.ylabel('Percentage')\n",
    "plt.show()\n"
   ]
  },
  {
   "cell_type": "code",
   "execution_count": null,
   "id": "180aef12",
   "metadata": {},
   "outputs": [],
   "source": [
    "df_reset['education'].value_counts()\n"
   ]
  },
  {
   "cell_type": "code",
   "execution_count": null,
   "id": "2012da6f",
   "metadata": {},
   "outputs": [],
   "source": [
    "print(education_df.head())"
   ]
  },
  {
   "cell_type": "code",
   "execution_count": null,
   "id": "65f07d6f",
   "metadata": {},
   "outputs": [],
   "source": [
    "plt.figure(figsize=(12, 6))\n",
    "sns.countplot(x='Cluster', hue='Education_Label', data=df_reset)\n",
    "plt.title('Count of Education Levels by Cluster')\n",
    "plt.xlabel('Cluster')\n",
    "plt.ylabel('Count')\n",
    "plt.legend(title='Education Level', bbox_to_anchor=(1.05, 1), loc='upper left')\n",
    "\n",
    "plt.show()\n"
   ]
  },
  {
   "cell_type": "code",
   "execution_count": null,
   "id": "4af8be5e",
   "metadata": {},
   "outputs": [],
   "source": [
    "plt.figure(figsize=(10, 6))\n",
    "sns.barplot(x='Cluster', y='Percentage', hue='Married', data=married_df)\n",
    "plt.title('Marital Status Percentage by Cluster')\n",
    "plt.xlabel('Cluster')\n",
    "plt.ylabel('Percentage')\n",
    "plt.legend(title='Education Level', bbox_to_anchor=(1.05, 1), loc='upper left')\n",
    "plt.show()"
   ]
  },
  {
   "cell_type": "code",
   "execution_count": null,
   "id": "ec98c000",
   "metadata": {},
   "outputs": [],
   "source": [
    "plt.figure(figsize=(12, 6))\n",
    "sns.countplot(x='Cluster', hue='Active_loans', data=df_reset)\n",
    "plt.title('Distribution of Active Loans by Cluster')\n",
    "plt.xlabel('Cluster')\n",
    "plt.ylabel('Count')\n",
    "plt.legend(title='Active Loans')\n",
    "plt.show()"
   ]
  },
  {
   "cell_type": "code",
   "execution_count": null,
   "id": "07483fec",
   "metadata": {},
   "outputs": [],
   "source": [
    "plt.figure(figsize=(10,6))\n",
    "sns.scatterplot(x='Age', y='Networth', hue='Cluster', data=df_reset, s=100)\n",
    "plt.ticklabel_format(style='plain')\n",
    "plt.title('Age vs. Net Worth by Cluster')\n",
    "plt.xlabel('Age')\n",
    "plt.ylabel('Net Worth')\n",
    "plt.show()"
   ]
  },
  {
   "cell_type": "code",
   "execution_count": null,
   "id": "1dc518a8",
   "metadata": {},
   "outputs": [],
   "source": [
    "plt.figure(figsize=(15, 6))\n",
    "plt.subplot(1, 2, 1) \n",
    "sns.scatterplot(x='Age', y='Annual Income', hue='Cluster', data=df_reset, s=100)\n",
    "plt.ticklabel_format(style='plain')  \n",
    "plt.title('Age vs. Annual Income by Cluster')\n",
    "plt.xlabel('Age')\n",
    "plt.ylabel('Annual Income')\n",
    "plt.subplot(1, 2, 2)  # 1 row, 2 columns, 2nd subplot\n",
    "sns.scatterplot(x='Age', y='AccountBalance', hue='Cluster', data=df_reset, s=100)\n",
    "plt.ticklabel_format(style='plain')  # To avoid scientific notation\n",
    "plt.title('Age vs. Account Balance by Cluster')\n",
    "plt.xlabel('Age')\n",
    "plt.ylabel('Account Balance')\n",
    "plt.tight_layout()\n",
    "plt.show()"
   ]
  },
  {
   "cell_type": "code",
   "execution_count": null,
   "id": "988a62f1",
   "metadata": {},
   "outputs": [],
   "source": [
    "df_final['Cluster'].value_counts().plot(kind='bar')"
   ]
  },
  {
   "cell_type": "code",
   "execution_count": null,
   "id": "8e5a70f6",
   "metadata": {},
   "outputs": [],
   "source": []
  },
  {
   "cell_type": "code",
   "execution_count": null,
   "id": "a3433290",
   "metadata": {},
   "outputs": [],
   "source": [
    "df_reset"
   ]
  },
  {
   "cell_type": "code",
   "execution_count": null,
   "id": "d6972bc6",
   "metadata": {},
   "outputs": [],
   "source": [
    "'''df_final['Cluster'] = clusters\n",
    "\n",
    "# Plot pair plots\n",
    "sns.pairplot(df_final, hue='Cluster', palette='viridis', diag_kind='kde')\n",
    "plt.title('Pair Plot of Features Colored by Cluster')\n",
    "plt.show()'''"
   ]
  },
  {
   "cell_type": "markdown",
   "id": "fd0fa5c5",
   "metadata": {},
   "source": [
    "# KNN"
   ]
  },
  {
   "cell_type": "code",
   "execution_count": null,
   "id": "aa88c44f",
   "metadata": {},
   "outputs": [],
   "source": [
    "\n",
    "from sklearn.neighbors import KNeighborsClassifier\n",
    "from sklearn.model_selection import train_test_split\n",
    "from sklearn.metrics import accuracy_score, classification_report, confusion_matrix\n",
    "\n"
   ]
  },
  {
   "cell_type": "code",
   "execution_count": null,
   "id": "9dbf9253",
   "metadata": {},
   "outputs": [],
   "source": [
    "X_train, X_test, y_train, y_test = train_test_split(pca_df3, pca_df3['Cluster'], test_size=0.3, random_state=42)\n"
   ]
  },
  {
   "cell_type": "code",
   "execution_count": null,
   "id": "8eee1e8b",
   "metadata": {},
   "outputs": [],
   "source": [
    "knn = KNeighborsClassifier(n_neighbors=3)\n",
    "knn.fit(X_train, y_train)"
   ]
  },
  {
   "cell_type": "code",
   "execution_count": null,
   "id": "e86afe8c",
   "metadata": {},
   "outputs": [],
   "source": [
    "y_pred = knn.predict(X_test)"
   ]
  },
  {
   "cell_type": "code",
   "execution_count": null,
   "id": "22ce8aa9",
   "metadata": {},
   "outputs": [],
   "source": [
    "y_pred"
   ]
  },
  {
   "cell_type": "code",
   "execution_count": null,
   "id": "3e1a1d04",
   "metadata": {},
   "outputs": [],
   "source": [
    "accuracy = accuracy_score(y_test, y_pred)\n",
    "print(f'Accuracy: {accuracy:.2f}')"
   ]
  },
  {
   "cell_type": "code",
   "execution_count": null,
   "id": "43c586b4",
   "metadata": {},
   "outputs": [],
   "source": [
    "print('Classification Report:')\n",
    "print(classification_report(y_test, y_pred))"
   ]
  },
  {
   "cell_type": "code",
   "execution_count": null,
   "id": "5a3acadd",
   "metadata": {},
   "outputs": [],
   "source": [
    "print('Confusion Matrix:')\n",
    "print(confusion_matrix(y_test, y_pred))"
   ]
  },
  {
   "cell_type": "code",
   "execution_count": null,
   "id": "70355379",
   "metadata": {},
   "outputs": [],
   "source": [
    "from sklearn.model_selection import cross_val_score\n",
    "\n",
    "# Perform cross-validation\n",
    "cv_scores = cross_val_score(knn, X_train, y_train, cv=5)\n",
    "print(f'Cross-Validation Scores: {cv_scores}')\n",
    "print(f'Mean Cross-Validation Score: {cv_scores.mean():.2f}')"
   ]
  },
  {
   "cell_type": "code",
   "execution_count": null,
   "id": "9e64c673",
   "metadata": {},
   "outputs": [],
   "source": [
    "X = df_final.drop(columns=['Cluster'])\n",
    "Y=df_final['Cluster']"
   ]
  },
  {
   "cell_type": "code",
   "execution_count": null,
   "id": "19da4560",
   "metadata": {},
   "outputs": [],
   "source": [
    "scaler1=StandardScaler()\n",
    "#scaler = StandardScaler()\n",
    "X2 = scaler.fit_transform(X)\n",
    "X2=pd.DataFrame(X2)\n"
   ]
  },
  {
   "cell_type": "markdown",
   "id": "026275b9",
   "metadata": {},
   "source": [
    "## "
   ]
  },
  {
   "cell_type": "code",
   "execution_count": null,
   "id": "6881ff32",
   "metadata": {},
   "outputs": [],
   "source": [
    "X_train1, X_test1, y_train1, y_test1 = train_test_split(X2, Y, test_size=0.30, random_state=42)\n"
   ]
  },
  {
   "cell_type": "code",
   "execution_count": null,
   "id": "55306441",
   "metadata": {},
   "outputs": [],
   "source": [
    "knn1 = KNeighborsClassifier(n_neighbors=3)\n",
    "knn1.fit(X_train1, y_train1)"
   ]
  },
  {
   "cell_type": "code",
   "execution_count": null,
   "id": "44b38244",
   "metadata": {},
   "outputs": [],
   "source": [
    "y_pred1 = knn1.predict(X_test1)"
   ]
  },
  {
   "cell_type": "code",
   "execution_count": null,
   "id": "17680430",
   "metadata": {},
   "outputs": [],
   "source": [
    "accuracy1 = accuracy_score(y_test1, y_pred1)\n",
    "print(f'Accuracy: {accuracy1:.2f}')"
   ]
  },
  {
   "cell_type": "code",
   "execution_count": null,
   "id": "51944f1c",
   "metadata": {},
   "outputs": [],
   "source": [
    "print('Classification Report:')\n",
    "print(classification_report(y_test1, y_pred1))"
   ]
  },
  {
   "cell_type": "code",
   "execution_count": null,
   "id": "832610d3",
   "metadata": {},
   "outputs": [],
   "source": [
    "df_concat = pd.concat([df1, df_final['Cluster']], axis=1)\n"
   ]
  },
  {
   "cell_type": "code",
   "execution_count": null,
   "id": "3bb37536",
   "metadata": {},
   "outputs": [],
   "source": [
    "df_concat"
   ]
  },
  {
   "cell_type": "code",
   "execution_count": null,
   "id": "c8fd45c4",
   "metadata": {},
   "outputs": [],
   "source": [
    "df_concat.to_csv('data_with_clusters.csv', index=False)"
   ]
  },
  {
   "cell_type": "code",
   "execution_count": null,
   "id": "9bed20b4",
   "metadata": {},
   "outputs": [],
   "source": [
    "import pickle"
   ]
  },
  {
   "cell_type": "code",
   "execution_count": null,
   "id": "fc18ee97",
   "metadata": {},
   "outputs": [],
   "source": [
    "with open('knn2.pkl', 'wb') as file:\n",
    "    pickle.dump(knn1, file)"
   ]
  },
  {
   "cell_type": "code",
   "execution_count": null,
   "id": "1b1c958c",
   "metadata": {},
   "outputs": [],
   "source": [
    "\n",
    "with open('scaler1.pkl', 'wb') as f:\n",
    "    pickle.dump(scaler, f)"
   ]
  },
  {
   "cell_type": "code",
   "execution_count": null,
   "id": "27db0bd7",
   "metadata": {},
   "outputs": [],
   "source": [
    "with open('encoder1.pkl', 'wb') as f:\n",
    "    pickle.dump(encoder1, f)"
   ]
  },
  {
   "cell_type": "code",
   "execution_count": null,
   "id": "f619fce4",
   "metadata": {},
   "outputs": [],
   "source": [
    "with open('encoder.pkl', 'wb') as f:\n",
    "    pickle.dump(encoder, f)"
   ]
  },
  {
   "cell_type": "code",
   "execution_count": null,
   "id": "d292a46c",
   "metadata": {},
   "outputs": [],
   "source": [
    "with open('pca.pkl', 'wb') as file:\n",
    "    pickle.dump(pca, file)"
   ]
  },
  {
   "cell_type": "code",
   "execution_count": null,
   "id": "4f410034",
   "metadata": {},
   "outputs": [],
   "source": []
  }
 ],
 "metadata": {
  "kernelspec": {
   "display_name": "Python 3 (ipykernel)",
   "language": "python",
   "name": "python3"
  },
  "language_info": {
   "codemirror_mode": {
    "name": "ipython",
    "version": 3
   },
   "file_extension": ".py",
   "mimetype": "text/x-python",
   "name": "python",
   "nbconvert_exporter": "python",
   "pygments_lexer": "ipython3",
   "version": "3.11.5"
  }
 },
 "nbformat": 4,
 "nbformat_minor": 5
}
