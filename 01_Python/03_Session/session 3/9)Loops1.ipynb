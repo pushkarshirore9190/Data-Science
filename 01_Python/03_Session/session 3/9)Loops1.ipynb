{
 "cells": [
  {
   "cell_type": "markdown",
   "id": "9bed4a44",
   "metadata": {},
   "source": [
    "# For loop"
   ]
  },
  {
   "cell_type": "code",
   "execution_count": 13,
   "id": "e5a42147",
   "metadata": {},
   "outputs": [],
   "source": [
    "set2 = (1,2,3,4,5,6,75,8,19,10)"
   ]
  },
  {
   "cell_type": "code",
   "execution_count": 14,
   "id": "ba991a4a",
   "metadata": {},
   "outputs": [
    {
     "name": "stdout",
     "output_type": "stream",
     "text": [
      "1\n",
      "2\n",
      "3\n",
      "4\n",
      "5\n",
      "6\n",
      "75\n",
      "8\n",
      "19\n",
      "10\n"
     ]
    }
   ],
   "source": [
    "for i in set2 :\n",
    " print(i)"
   ]
  },
  {
   "cell_type": "code",
   "execution_count": 15,
   "id": "646de4d1",
   "metadata": {},
   "outputs": [],
   "source": [
    "set1 = (0,1,2,3,4,5,6,7,8,9)"
   ]
  },
  {
   "cell_type": "code",
   "execution_count": 17,
   "id": "52ef3665",
   "metadata": {},
   "outputs": [
    {
     "name": "stdout",
     "output_type": "stream",
     "text": [
      "0\n",
      "1\n",
      "2\n",
      "3\n",
      "4\n",
      "5\n",
      "6\n",
      "7\n",
      "8\n",
      "9\n"
     ]
    }
   ],
   "source": [
    "for i in set1 :\n",
    "    print(i)"
   ]
  },
  {
   "cell_type": "code",
   "execution_count": null,
   "id": "15407fa7",
   "metadata": {},
   "outputs": [
    {
     "name": "stdout",
     "output_type": "stream",
     "text": [
      "1\n",
      "2\n",
      "3\n",
      "4\n",
      "5\n"
     ]
    }
   ],
   "source": [
    "for i in set2 :\n",
    " print(i)\n",
    " if i == 5 :\n",
    "    break"
   ]
  },
  {
   "cell_type": "code",
   "execution_count": null,
   "id": "b31410b4",
   "metadata": {},
   "outputs": [
    {
     "name": "stdout",
     "output_type": "stream",
     "text": [
      "0\n",
      "1\n",
      "2\n",
      "3\n",
      "4\n"
     ]
    }
   ],
   "source": [
    "for i in set1 :\n",
    " if i == 5 :\n",
    "    break\n",
    " print(i)"
   ]
  },
  {
   "cell_type": "code",
   "execution_count": null,
   "id": "6ffbaf15",
   "metadata": {},
   "outputs": [
    {
     "name": "stdout",
     "output_type": "stream",
     "text": [
      "0\n",
      "1\n",
      "2\n",
      "3\n",
      "4\n",
      "5\n",
      "6\n",
      "7\n",
      "8\n",
      "9\n"
     ]
    }
   ],
   "source": [
    "for i in set1 :\n",
    " print(i)\n",
    " if i == 5 :\n",
    "    continue"
   ]
  },
  {
   "cell_type": "code",
   "execution_count": null,
   "id": "008af3ce",
   "metadata": {},
   "outputs": [
    {
     "name": "stdout",
     "output_type": "stream",
     "text": [
      "0\n",
      "1\n",
      "2\n",
      "3\n",
      "4\n",
      "6\n",
      "7\n",
      "8\n",
      "9\n"
     ]
    }
   ],
   "source": [
    "for i in set1 :\n",
    " if i == 5 :\n",
    "    continue\n",
    " print(i)"
   ]
  },
  {
   "cell_type": "code",
   "execution_count": null,
   "id": "f82035e6",
   "metadata": {},
   "outputs": [
    {
     "name": "stdout",
     "output_type": "stream",
     "text": [
      "s\n",
      "h\n",
      "r\n",
      "i\n",
      "d\n",
      "h\n",
      "a\n",
      "r\n"
     ]
    }
   ],
   "source": [
    "for i in 'shridhar': \n",
    " print(i)"
   ]
  },
  {
   "cell_type": "code",
   "execution_count": null,
   "id": "b712ac82",
   "metadata": {},
   "outputs": [
    {
     "name": "stdout",
     "output_type": "stream",
     "text": [
      "0\n",
      "1\n",
      "2\n",
      "3\n",
      "4\n",
      "5\n",
      "6\n",
      "7\n",
      "8\n",
      "9\n"
     ]
    }
   ],
   "source": [
    "for i in range(10): \n",
    " print(i)"
   ]
  },
  {
   "cell_type": "code",
   "execution_count": null,
   "id": "f463caeb",
   "metadata": {},
   "outputs": [
    {
     "name": "stdout",
     "output_type": "stream",
     "text": [
      "5\n",
      "6\n",
      "7\n",
      "8\n",
      "9\n"
     ]
    }
   ],
   "source": [
    "for i in range(5,10): \n",
    " print(i)"
   ]
  },
  {
   "cell_type": "code",
   "execution_count": null,
   "id": "7f4e8089",
   "metadata": {},
   "outputs": [
    {
     "name": "stdout",
     "output_type": "stream",
     "text": [
      "1\n",
      "3\n",
      "5\n",
      "7\n",
      "9\n"
     ]
    }
   ],
   "source": [
    "for i in range(1,10,2): \n",
    " print(i)"
   ]
  },
  {
   "cell_type": "code",
   "execution_count": null,
   "id": "3795f9c9",
   "metadata": {},
   "outputs": [
    {
     "name": "stdout",
     "output_type": "stream",
     "text": [
      "s\n",
      "m\n",
      "a\n",
      "n\n",
      "k\n",
      "a\n",
      "r\n",
      "h\n",
      "m\n",
      "a\n",
      "n\n",
      "k\n",
      "a\n",
      "r\n",
      "r\n",
      "m\n",
      "a\n",
      "n\n",
      "k\n",
      "a\n",
      "r\n",
      "i\n",
      "m\n",
      "a\n",
      "n\n",
      "k\n",
      "a\n",
      "r\n",
      "d\n",
      "m\n",
      "a\n",
      "n\n",
      "k\n",
      "a\n",
      "r\n",
      "h\n",
      "m\n",
      "a\n",
      "n\n",
      "k\n",
      "a\n",
      "r\n",
      "a\n",
      "m\n",
      "a\n",
      "n\n",
      "k\n",
      "a\n",
      "r\n",
      "r\n",
      "m\n",
      "a\n",
      "n\n",
      "k\n",
      "a\n",
      "r\n"
     ]
    }
   ],
   "source": [
    "for i in 'shridhar': \n",
    " print(i)\n",
    " for j in 'mankar':\n",
    "    print(j)"
   ]
  },
  {
   "cell_type": "code",
   "execution_count": null,
   "id": "04fca643",
   "metadata": {},
   "outputs": [
    {
     "name": "stdout",
     "output_type": "stream",
     "text": [
      "0\n",
      "m\n",
      "a\n",
      "n\n",
      "k\n",
      "a\n",
      "r\n",
      "1\n",
      "m\n",
      "a\n",
      "n\n",
      "k\n",
      "a\n",
      "r\n",
      "2\n",
      "m\n",
      "a\n",
      "n\n",
      "k\n",
      "a\n",
      "r\n",
      "3\n",
      "m\n",
      "a\n",
      "n\n",
      "k\n",
      "a\n",
      "r\n",
      "4\n",
      "m\n",
      "a\n",
      "n\n",
      "k\n",
      "a\n",
      "r\n"
     ]
    }
   ],
   "source": [
    "for i in range(5): \n",
    " print(i)\n",
    " for j in 'mankar':\n",
    "    print(j)"
   ]
  },
  {
   "cell_type": "code",
   "execution_count": null,
   "id": "dd08af43",
   "metadata": {},
   "outputs": [
    {
     "name": "stdout",
     "output_type": "stream",
     "text": [
      "1\n",
      "m\n",
      "a\n",
      "n\n",
      "k\n",
      "a\n",
      "r\n",
      "2\n",
      "m\n",
      "a\n",
      "n\n",
      "k\n",
      "a\n",
      "r\n",
      "3\n",
      "m\n",
      "a\n",
      "n\n",
      "k\n",
      "a\n",
      "r\n",
      "4\n",
      "m\n",
      "a\n",
      "n\n",
      "k\n",
      "a\n",
      "r\n"
     ]
    }
   ],
   "source": [
    "for i in range(1,5): \n",
    " print(i)\n",
    " for j in 'mankar':\n",
    "    print(j)"
   ]
  },
  {
   "cell_type": "markdown",
   "id": "df78f8ba",
   "metadata": {},
   "source": [
    "# While loop"
   ]
  },
  {
   "cell_type": "code",
   "execution_count": null,
   "id": "17aaac3a",
   "metadata": {},
   "outputs": [
    {
     "name": "stdout",
     "output_type": "stream",
     "text": [
      "1\n",
      "2\n",
      "3\n",
      "4\n",
      "5\n",
      "6\n",
      "7\n",
      "8\n",
      "9\n"
     ]
    }
   ],
   "source": [
    "x = 1\n",
    "while x < 10:\n",
    "  print(x)                           -3-2-1 0 1 23456789 10\n",
    "  x -= 1"
   ]
  },
  {
   "cell_type": "code",
   "execution_count": null,
   "id": "32f1ad12",
   "metadata": {},
   "outputs": [
    {
     "name": "stdout",
     "output_type": "stream",
     "text": [
      "1\n",
      "3\n",
      "5\n",
      "7\n",
      "9\n"
     ]
    }
   ],
   "source": [
    "x = 1\n",
    "while x < 10:\n",
    "  print(x)\n",
    "  x += 2"
   ]
  },
  {
   "cell_type": "code",
   "execution_count": null,
   "id": "f0072b95",
   "metadata": {},
   "outputs": [
    {
     "name": "stdout",
     "output_type": "stream",
     "text": [
      "1\n",
      "4\n",
      "7\n"
     ]
    }
   ],
   "source": [
    "x = 1\n",
    "while x < 10:\n",
    "  print(x)\n",
    "  x += 3"
   ]
  },
  {
   "cell_type": "code",
   "execution_count": null,
   "id": "0a23ab5d",
   "metadata": {},
   "outputs": [
    {
     "name": "stdout",
     "output_type": "stream",
     "text": [
      "1\n",
      "2\n",
      "3\n",
      "4\n",
      "5\n"
     ]
    }
   ],
   "source": [
    "x = 1\n",
    "while x < 10:\n",
    " print(x)\n",
    " if x==5:\n",
    "  break\n",
    " x += 1"
   ]
  },
  {
   "cell_type": "code",
   "execution_count": null,
   "id": "39a6b64c",
   "metadata": {},
   "outputs": [
    {
     "name": "stdout",
     "output_type": "stream",
     "text": [
      "2\n",
      "3\n",
      "4\n",
      "6\n",
      "7\n",
      "8\n",
      "9\n",
      "10\n"
     ]
    }
   ],
   "source": [
    "x = 1\n",
    "while x < 10:\n",
    "  x += 1\n",
    "  if x == 5:\n",
    "    continue\n",
    "  print(x)"
   ]
  },
  {
   "cell_type": "code",
   "execution_count": null,
   "id": "eab97a47",
   "metadata": {},
   "outputs": [
    {
     "name": "stdout",
     "output_type": "stream",
     "text": [
      "2\n",
      "3\n",
      "4\n",
      "5\n",
      "6\n",
      "7\n",
      "8\n",
      "9\n",
      "10\n"
     ]
    }
   ],
   "source": [
    "x = 1\n",
    "while x < 10:\n",
    "  x += 1\n",
    "  print(x)\n",
    "  if x == 5:\n",
    "    continue"
   ]
  },
  {
   "cell_type": "code",
   "execution_count": null,
   "id": "22a16b9b",
   "metadata": {},
   "outputs": [
    {
     "name": "stdout",
     "output_type": "stream",
     "text": [
      "1\n",
      "2\n",
      "3\n",
      "4\n",
      "5\n",
      "6\n",
      "7\n",
      "8\n",
      "9\n"
     ]
    }
   ],
   "source": [
    "x = 1\n",
    "while x in range(10):\n",
    "  print(x)\n",
    "  x += 1"
   ]
  },
  {
   "cell_type": "code",
   "execution_count": null,
   "id": "92582e7b",
   "metadata": {},
   "outputs": [
    {
     "name": "stdout",
     "output_type": "stream",
     "text": [
      "x-> 1 y-> 1 x + y -> 2\n",
      "x-> 1 y-> 2 x + y -> 3\n",
      "x-> 1 y-> 3 x + y -> 4\n",
      "x-> 1 y-> 4 x + y -> 5\n",
      "\n",
      "\n",
      "x-> 2 y-> 1 x + y -> 3\n",
      "x-> 2 y-> 2 x + y -> 4\n",
      "x-> 2 y-> 3 x + y -> 5\n",
      "x-> 2 y-> 4 x + y -> 6\n",
      "\n",
      "\n",
      "x-> 3 y-> 1 x + y -> 4\n",
      "x-> 3 y-> 2 x + y -> 5\n",
      "x-> 3 y-> 3 x + y -> 6\n",
      "x-> 3 y-> 4 x + y -> 7\n",
      "\n",
      "\n",
      "x-> 4 y-> 1 x + y -> 5\n",
      "x-> 4 y-> 2 x + y -> 6\n",
      "x-> 4 y-> 3 x + y -> 7\n",
      "x-> 4 y-> 4 x + y -> 8\n",
      "\n",
      "\n"
     ]
    }
   ],
   "source": [
    "x = 1\n",
    "while x < 5 :\n",
    "    y = 1\n",
    "    while  y < 5 :\n",
    "        print('x->',x,'y->',y,'x + y ->',x+y)\n",
    "        y += 1\n",
    "    print(\"\\n\")\n",
    "    x += 1"
   ]
  },
  {
   "cell_type": "code",
   "execution_count": null,
   "id": "dc7c69e4",
   "metadata": {},
   "outputs": [],
   "source": []
  }
 ],
 "metadata": {
  "kernelspec": {
   "display_name": "Python 3 (ipykernel)",
   "language": "python",
   "name": "python3"
  },
  "language_info": {
   "codemirror_mode": {
    "name": "ipython",
    "version": 3
   },
   "file_extension": ".py",
   "mimetype": "text/x-python",
   "name": "python",
   "nbconvert_exporter": "python",
   "pygments_lexer": "ipython3",
   "version": "3.11.4"
  }
 },
 "nbformat": 4,
 "nbformat_minor": 5
}
