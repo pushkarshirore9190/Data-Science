{
 "cells": [
  {
   "cell_type": "code",
   "execution_count": 2,
   "id": "1b8991df",
   "metadata": {},
   "outputs": [
    {
     "name": "stdout",
     "output_type": "stream",
     "text": [
      "ZeroDivisionError\n"
     ]
    }
   ],
   "source": [
    "def func(x):\n",
    "   y = x/0\n",
    "     \n",
    "try:\n",
    "    func(5)\n",
    "except ZeroDivisionError:\n",
    "    print(\"ZeroDivisionError\")\n",
    "except NameError:\n",
    "    print(\"NameError\")"
   ]
  },
  {
   "cell_type": "code",
   "execution_count": 3,
   "id": "ac2f94c2",
   "metadata": {},
   "outputs": [
    {
     "name": "stdout",
     "output_type": "stream",
     "text": [
      "NameError\n"
     ]
    }
   ],
   "source": [
    "def func(x):\n",
    "   print(a)\n",
    "     \n",
    "try:\n",
    "    func(5)\n",
    "except ZeroDivisionError:\n",
    "    print(\"ZeroDivisionError\")\n",
    "except NameError:\n",
    "    print(\"NameError\")"
   ]
  },
  {
   "cell_type": "code",
   "execution_count": 4,
   "id": "5aabb105",
   "metadata": {},
   "outputs": [
    {
     "name": "stdout",
     "output_type": "stream",
     "text": [
      "Indexerror\n"
     ]
    }
   ],
   "source": [
    "try:\n",
    " listt = [1,2,3,4,5]\n",
    " print(listt[99])\n",
    "except IndexError:\n",
    "    print(\"Indexerror\")\n"
   ]
  },
  {
   "cell_type": "code",
   "execution_count": 5,
   "id": "e7e9f2cf",
   "metadata": {},
   "outputs": [
    {
     "name": "stdout",
     "output_type": "stream",
     "text": [
      "Indexerror\n",
      "Executing rest of the code\n"
     ]
    }
   ],
   "source": [
    "try:\n",
    " listt = [1,2,3,4,5]\n",
    " print(listt[99])\n",
    "except IndexError:\n",
    "    print(\"Indexerror\")\n",
    "finally:\n",
    "    print(\"Executing rest of the code\")"
   ]
  },
  {
   "cell_type": "code",
   "execution_count": 6,
   "id": "6e37bedc",
   "metadata": {},
   "outputs": [
    {
     "name": "stdout",
     "output_type": "stream",
     "text": [
      "TypeError\n"
     ]
    }
   ],
   "source": [
    "try:\n",
    " s = \"shri\"\n",
    " n = 5\n",
    " print(s+n)\n",
    "except TypeError:\n",
    "    print(\"TypeError\")\n"
   ]
  },
  {
   "cell_type": "code",
   "execution_count": null,
   "id": "1655b7e6",
   "metadata": {},
   "outputs": [],
   "source": []
  }
 ],
 "metadata": {
  "kernelspec": {
   "display_name": "Python 3 (ipykernel)",
   "language": "python",
   "name": "python3"
  },
  "language_info": {
   "codemirror_mode": {
    "name": "ipython",
    "version": 3
   },
   "file_extension": ".py",
   "mimetype": "text/x-python",
   "name": "python",
   "nbconvert_exporter": "python",
   "pygments_lexer": "ipython3",
   "version": "3.11.4"
  }
 },
 "nbformat": 4,
 "nbformat_minor": 5
}
