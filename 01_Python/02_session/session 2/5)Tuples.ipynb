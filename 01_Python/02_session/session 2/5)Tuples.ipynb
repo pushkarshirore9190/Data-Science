{
 "cells": [
  {
   "cell_type": "code",
   "execution_count": 1,
   "id": "37063653",
   "metadata": {},
   "outputs": [],
   "source": [
    "tuple1 = (1,2,3,4,5)"
   ]
  },
  {
   "cell_type": "code",
   "execution_count": 2,
   "id": "ae73a6e3",
   "metadata": {},
   "outputs": [],
   "source": [
    "tuple2 = ('one','two',\"three\",\"four\")"
   ]
  },
  {
   "cell_type": "code",
   "execution_count": 3,
   "id": "64fcc7a2",
   "metadata": {},
   "outputs": [],
   "source": [
    "tuple3 = (True, False)"
   ]
  },
  {
   "cell_type": "code",
   "execution_count": 4,
   "id": "ace70c14",
   "metadata": {},
   "outputs": [],
   "source": [
    "tuple4 = (5j,1+2j)"
   ]
  },
  {
   "cell_type": "code",
   "execution_count": 5,
   "id": "40aff531",
   "metadata": {},
   "outputs": [],
   "source": [
    "tuple5 = (1.2,2.3,3.4,4.5,5.6)"
   ]
  },
  {
   "cell_type": "code",
   "execution_count": 6,
   "id": "5fa7933f",
   "metadata": {},
   "outputs": [
    {
     "name": "stdout",
     "output_type": "stream",
     "text": [
      "<class 'tuple'>\n",
      "<class 'tuple'>\n",
      "<class 'tuple'>\n",
      "<class 'tuple'>\n",
      "<class 'tuple'>\n"
     ]
    }
   ],
   "source": [
    "print(type(tuple1))\n",
    "print(type(tuple2))\n",
    "print(type(tuple3))\n",
    "print(type(tuple4))\n",
    "print(type(tuple5))"
   ]
  },
  {
   "cell_type": "code",
   "execution_count": 7,
   "id": "86bad4e4",
   "metadata": {},
   "outputs": [],
   "source": [
    "tuple6 = (1,1,1,1,1,1,1,1,1,1,1)"
   ]
  },
  {
   "cell_type": "code",
   "execution_count": 8,
   "id": "16ae1c5d",
   "metadata": {},
   "outputs": [
    {
     "data": {
      "text/plain": [
       "(1, 1, 1, 1, 1, 1, 1, 1, 1, 1, 1)"
      ]
     },
     "execution_count": 8,
     "metadata": {},
     "output_type": "execute_result"
    }
   ],
   "source": [
    "tuple6"
   ]
  },
  {
   "cell_type": "code",
   "execution_count": 9,
   "id": "09926f35",
   "metadata": {},
   "outputs": [],
   "source": [
    "tuple7 = (\"abcdefghijklmnopqrstuvwxyz\")"
   ]
  },
  {
   "cell_type": "code",
   "execution_count": 10,
   "id": "9e4f51a2",
   "metadata": {},
   "outputs": [
    {
     "data": {
      "text/plain": [
       "str"
      ]
     },
     "execution_count": 10,
     "metadata": {},
     "output_type": "execute_result"
    }
   ],
   "source": [
    "type(tuple7)"
   ]
  },
  {
   "cell_type": "code",
   "execution_count": 11,
   "id": "71be759b",
   "metadata": {},
   "outputs": [],
   "source": [
    "tuple8 = (\"abcdefghijklmnopqrstuvwxyz\",)"
   ]
  },
  {
   "cell_type": "code",
   "execution_count": 12,
   "id": "5a2f1e0f",
   "metadata": {},
   "outputs": [
    {
     "data": {
      "text/plain": [
       "tuple"
      ]
     },
     "execution_count": 12,
     "metadata": {},
     "output_type": "execute_result"
    }
   ],
   "source": [
    "type(tuple8)"
   ]
  },
  {
   "cell_type": "code",
   "execution_count": 13,
   "id": "43130c04",
   "metadata": {},
   "outputs": [
    {
     "data": {
      "text/plain": [
       "1"
      ]
     },
     "execution_count": 13,
     "metadata": {},
     "output_type": "execute_result"
    }
   ],
   "source": [
    "tuple1[0]"
   ]
  },
  {
   "cell_type": "code",
   "execution_count": 14,
   "id": "0dcff85a",
   "metadata": {},
   "outputs": [
    {
     "data": {
      "text/plain": [
       "'two'"
      ]
     },
     "execution_count": 14,
     "metadata": {},
     "output_type": "execute_result"
    }
   ],
   "source": [
    "tuple2[1]"
   ]
  },
  {
   "cell_type": "code",
   "execution_count": 15,
   "id": "8308c80f",
   "metadata": {},
   "outputs": [
    {
     "data": {
      "text/plain": [
       "False"
      ]
     },
     "execution_count": 15,
     "metadata": {},
     "output_type": "execute_result"
    }
   ],
   "source": [
    "tuple3[1]"
   ]
  },
  {
   "cell_type": "code",
   "execution_count": 16,
   "id": "5819a9e3",
   "metadata": {},
   "outputs": [
    {
     "data": {
      "text/plain": [
       "5"
      ]
     },
     "execution_count": 16,
     "metadata": {},
     "output_type": "execute_result"
    }
   ],
   "source": [
    "tuple1[-1]"
   ]
  },
  {
   "cell_type": "code",
   "execution_count": 17,
   "id": "03239368",
   "metadata": {},
   "outputs": [
    {
     "data": {
      "text/plain": [
       "'three'"
      ]
     },
     "execution_count": 17,
     "metadata": {},
     "output_type": "execute_result"
    }
   ],
   "source": [
    "tuple2[-2]"
   ]
  },
  {
   "cell_type": "code",
   "execution_count": 18,
   "id": "1c8dc2e6",
   "metadata": {},
   "outputs": [
    {
     "data": {
      "text/plain": [
       "(2, 3, 4)"
      ]
     },
     "execution_count": 18,
     "metadata": {},
     "output_type": "execute_result"
    }
   ],
   "source": [
    "tuple1[1:4]"
   ]
  },
  {
   "cell_type": "code",
   "execution_count": 19,
   "id": "27507de0",
   "metadata": {},
   "outputs": [
    {
     "data": {
      "text/plain": [
       "(2, 3, 4)"
      ]
     },
     "execution_count": 19,
     "metadata": {},
     "output_type": "execute_result"
    }
   ],
   "source": [
    "tuple1[-4:-1]"
   ]
  },
  {
   "cell_type": "code",
   "execution_count": 20,
   "id": "41b7f273",
   "metadata": {},
   "outputs": [
    {
     "data": {
      "text/plain": [
       "(2, 3, 4, 5)"
      ]
     },
     "execution_count": 20,
     "metadata": {},
     "output_type": "execute_result"
    }
   ],
   "source": [
    "tuple1[1:]"
   ]
  },
  {
   "cell_type": "code",
   "execution_count": 21,
   "id": "edfc60c0",
   "metadata": {},
   "outputs": [
    {
     "data": {
      "text/plain": [
       "(3, 4, 5)"
      ]
     },
     "execution_count": 21,
     "metadata": {},
     "output_type": "execute_result"
    }
   ],
   "source": [
    "tuple1[2:]"
   ]
  },
  {
   "cell_type": "code",
   "execution_count": 22,
   "id": "6a6a7a8f",
   "metadata": {},
   "outputs": [],
   "source": [
    "tuplelist = list(tuple2)"
   ]
  },
  {
   "cell_type": "code",
   "execution_count": 23,
   "id": "2cf7a44a",
   "metadata": {},
   "outputs": [],
   "source": [
    "tuplelist.append(\"five\")"
   ]
  },
  {
   "cell_type": "code",
   "execution_count": 24,
   "id": "1c024e4f",
   "metadata": {},
   "outputs": [],
   "source": [
    "tuple2 = tuple(tuplelist)"
   ]
  },
  {
   "cell_type": "code",
   "execution_count": 25,
   "id": "158c5b86",
   "metadata": {},
   "outputs": [
    {
     "data": {
      "text/plain": [
       "('one', 'two', 'three', 'four', 'five')"
      ]
     },
     "execution_count": 25,
     "metadata": {},
     "output_type": "execute_result"
    }
   ],
   "source": [
    "tuple2"
   ]
  },
  {
   "cell_type": "code",
   "execution_count": 26,
   "id": "c5836cb5",
   "metadata": {},
   "outputs": [
    {
     "data": {
      "text/plain": [
       "('one', 'two', 'three', 'four')"
      ]
     },
     "execution_count": 26,
     "metadata": {},
     "output_type": "execute_result"
    }
   ],
   "source": [
    "tuplelist = list(tuple2)\n",
    "tuplelist.remove(\"five\")\n",
    "tuple2 = tuple(tuplelist)\n",
    "tuple2"
   ]
  },
  {
   "cell_type": "code",
   "execution_count": 27,
   "id": "6b3c3160",
   "metadata": {},
   "outputs": [],
   "source": [
    "del tuple4"
   ]
  },
  {
   "cell_type": "code",
   "execution_count": 28,
   "id": "22e654d8",
   "metadata": {},
   "outputs": [
    {
     "data": {
      "text/plain": [
       "(1, 2, 3, 4, 5, 'abcdefghijklmnopqrstuvwxyz')"
      ]
     },
     "execution_count": 28,
     "metadata": {},
     "output_type": "execute_result"
    }
   ],
   "source": [
    "tuple9 = tuple1 + tuple8\n",
    "tuple9"
   ]
  },
  {
   "cell_type": "code",
   "execution_count": 29,
   "id": "77e05a13",
   "metadata": {},
   "outputs": [
    {
     "data": {
      "text/plain": [
       "(1, 2, 3, 4, 5, 'one', 'two', 'three', 'four')"
      ]
     },
     "execution_count": 29,
     "metadata": {},
     "output_type": "execute_result"
    }
   ],
   "source": [
    "tuple1 = tuple1 + tuple2\n",
    "tuple1"
   ]
  },
  {
   "cell_type": "code",
   "execution_count": 30,
   "id": "bc3d7970",
   "metadata": {},
   "outputs": [
    {
     "data": {
      "text/plain": [
       "1"
      ]
     },
     "execution_count": 30,
     "metadata": {},
     "output_type": "execute_result"
    }
   ],
   "source": [
    "tuple1.count(1)"
   ]
  },
  {
   "cell_type": "code",
   "execution_count": 31,
   "id": "3481fa2f",
   "metadata": {},
   "outputs": [
    {
     "data": {
      "text/plain": [
       "11"
      ]
     },
     "execution_count": 31,
     "metadata": {},
     "output_type": "execute_result"
    }
   ],
   "source": [
    "tuple6.count(1)"
   ]
  },
  {
   "cell_type": "code",
   "execution_count": null,
   "id": "484c2868",
   "metadata": {},
   "outputs": [],
   "source": []
  }
 ],
 "metadata": {
  "kernelspec": {
   "display_name": "Python 3 (ipykernel)",
   "language": "python",
   "name": "python3"
  },
  "language_info": {
   "codemirror_mode": {
    "name": "ipython",
    "version": 3
   },
   "file_extension": ".py",
   "mimetype": "text/x-python",
   "name": "python",
   "nbconvert_exporter": "python",
   "pygments_lexer": "ipython3",
   "version": "3.9.13"
  }
 },
 "nbformat": 4,
 "nbformat_minor": 5
}
